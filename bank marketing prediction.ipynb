{
 "cells": [
  {
   "cell_type": "markdown",
   "id": "4dd29f47",
   "metadata": {},
   "source": [
    "# Bank Marketing \n",
    "\n",
    "\n",
    "The classification goal is to predict if the client will subscribe (yes/no) a term deposit (variable y)\n"
   ]
  },
  {
   "cell_type": "markdown",
   "id": "9a083cfa",
   "metadata": {},
   "source": [
    "1 - age (numeric)\n",
    "\n",
    "2 - job : type of job (categorical: 'admin.','blue-collar','entrepreneur','housemaid','management','retired','self-employed','services','student','technician','unemployed','unknown')\n",
    "\n",
    "3 - marital : marital status (categorical: 'divorced','married','single','unknown'; note: 'divorced' means divorced or widowed)\n",
    "\n",
    "4 - education (categorical: 'basic.4y','basic.6y','basic.9y','high.school','illiterate','professional.course','university.degree','unknown')\n",
    "\n",
    "5 - default: has credit in default? (categorical: 'no','yes','unknown')\n",
    "\n",
    "6 - housing: has housing loan? (categorical: 'no','yes','unknown')\n",
    "\n",
    "7 - loan: has personal loan? (categorical: 'no','yes','unknown')\n",
    "\n",
    "##### related with the last contact of the current campaign:\n",
    "8 - contact: contact communication type (categorical: 'cellular','telephone')\n",
    "\n",
    "9 - month: last contact month of year (categorical: 'jan', 'feb', 'mar', ..., 'nov', 'dec')\n",
    "\n",
    "10 - day_of_week: last contact day of the week (categorical: 'mon','tue','wed','thu','fri')\n",
    "\n",
    "11 - duration: last contact duration, in seconds (numeric). Important note: this attribute highly affects the output target (e.g., if duration=0 then y='no'). Yet, the duration is not known before a call is performed. Also, after the end of the call y is obviously known. Thus, this input should only be included for benchmark purposes and should be discarded if the intention is to have a realistic predictive model.\n",
    "\n",
    "##### other attributes:\n",
    "12 - campaign: number of contacts performed during this campaign and for this client (numeric, includes last contact)\n",
    "\n",
    "13 - pdays: number of days that passed by after the client was last contacted from a previous campaign (numeric; 999 means client was not previously contacted)\n",
    "\n",
    "14 - previous: number of contacts performed before this campaign and for this client (numeric)\n",
    "\n",
    "15 - poutcome: outcome of the previous marketing campaign (categorical: 'failure','nonexistent','success')\n",
    "\n",
    "##### social and economic context attributes\n",
    "16 - emp.var.rate: employment variation rate - quarterly indicator (numeric)\n",
    "\n",
    "17 - cons.price.idx: consumer price index - monthly indicator (numeric)\n",
    "\n",
    "18 - cons.conf.idx: consumer confidence index - monthly indicator (numeric)\n",
    "\n",
    "19 - euribor3m: euribor 3 month rate - daily indicator (numeric)\n",
    "\n",
    "20 - nr.employed: number of employees - quarterly indicator (numeric)\n",
    "\n",
    "Output variable (desired target):\n",
    "21 - y - has the client subscribed a term deposit? (binary: 'yes','no')"
   ]
  },
  {
   "cell_type": "markdown",
   "id": "46d52727",
   "metadata": {},
   "source": [
    "importing necessary libraries"
   ]
  },
  {
   "cell_type": "code",
   "execution_count": 1,
   "id": "000e18ad",
   "metadata": {},
   "outputs": [],
   "source": [
    "import seaborn as sns #importing necessary packages\n",
    "import matplotlib.pyplot as plt\n",
    "import seaborn as sns\n",
    "import numpy as np\n",
    "import pandas as pd  \n",
    "from sklearn.preprocessing import StandardScaler\n",
    "from sklearn.model_selection import train_test_split, KFold, cross_val_score,GridSearchCV\n",
    "from sklearn.metrics import roc_auc_score, confusion_matrix,precision_score, recall_score, accuracy_score,classification_report,roc_curve,f1_score    \n",
    "from sklearn.linear_model import LogisticRegression\n",
    "from sklearn.tree import DecisionTreeClassifier\n",
    "from sklearn.neighbors import KNeighborsClassifier\n",
    "from sklearn.discriminant_analysis import LinearDiscriminantAnalysis\n",
    "from sklearn.naive_bayes import GaussianNB\n",
    "from sklearn.ensemble import AdaBoostClassifier, GradientBoostingClassifier, RandomForestClassifier, ExtraTreesClassifier\n",
    "from sklearn.model_selection import cross_val_predict\n",
    "from sklearn.utils import resample\n",
    "from sklearn.model_selection import RandomizedSearchCV\n",
    "from sklearn.base import BaseEstimator, TransformerMixin\n",
    "from sklearn.pipeline import Pipeline, FeatureUnion\\\n",
    "#from pandas import MultiIndex, Int64Index\n",
    "#from xgboost import XGBClassifier"
   ]
  },
  {
   "cell_type": "code",
   "execution_count": 2,
   "id": "bd7358bd",
   "metadata": {},
   "outputs": [],
   "source": [
    "#finding the unique values makes easy to transfer that into the unique values\n",
    "def print_unique_col_values(data):         #finding unique values\n",
    "    for column in data:                    #looping through the data \n",
    "        if data[column].dtypes=='object':   #only for the object column\n",
    "            print(f'{column}: {data[column].unique()}') "
   ]
  },
  {
   "cell_type": "code",
   "execution_count": 3,
   "id": "2e6804e0",
   "metadata": {},
   "outputs": [],
   "source": [
    "def label_encoding():\n",
    "    \n",
    "    #replacing the object datatype into the interger values\n",
    "    #inplace is true means that the changes made in the dataset is fixed\n",
    "    data['y'].replace(['yes', 'no'], [1, 0], inplace=True) \n",
    "    print(data['y'])\n",
    "    \n",
    "    data['job'].replace(['unknown','housemaid', 'services', 'admin.', 'blue-collar', 'technician', 'retired', 'management', 'unemployed', 'self-employed','entrepreneur', 'student'], [0, 1, 2, 3, 4, 5, 6, 7, 8, 9, 10, 11], inplace=True)  \n",
    "    print(data['job'])\n",
    "    \n",
    "    data['marital'].replace(['married', 'single', 'divorced', 'unknown'], [11, 12, 13, 14], inplace=True)  \n",
    "    print(data['marital'])\n",
    "    \n",
    "    data['education'].replace(['unknown', 'basic.4y', 'high.school', 'basic.6y', 'basic.9y',\n",
    "       'professional.course', 'university.degree','illiterate'], [0, 1, 2, 3, 4, 5, 6, 7], inplace=True)  \n",
    "    print(data['education'])\n",
    "    \n",
    "    data['default'].replace(['no', 'unknown', 'yes'], [0, 2, 1], inplace=True)  \n",
    "    print(data['default'])\n",
    "    \n",
    "    data['housing'].replace(['no', 'yes', 'unknown'], [0, 1, 2], inplace=True)  \n",
    "    print(data['housing'])\n",
    "    \n",
    "    data['loan'].replace(['no', 'yes', 'unknown'], [0, 1, 2], inplace=True)  \n",
    "    print(data['loan'])\n",
    "    \n",
    "    data['contact'].replace(['telephone', 'cellular'], [99,11], inplace=True)  \n",
    "    print(data['contact'])\n",
    "    \n",
    "    data['month'].replace(['may', 'jun', 'jul', 'aug', 'oct', 'nov', 'dec', 'mar', 'apr',\n",
    "       'sep'], [5, 6, 7, 8, 10, 11, 12, 3, 4, 9], inplace=True)  \n",
    "    print(data['month'])\n",
    "    \n",
    "    data['day_of_week'].replace(['mon', 'tue', 'wed', 'thu', 'fri'], [1, 2, 3, 4, 5], inplace=True)  \n",
    "    print(data['day_of_week'])\n",
    "     \n",
    "    data['poutcome'].replace(['nonexistent', 'failure', 'success'], [1, 0, 2], inplace=True)  \n",
    "    print(data['poutcome'])\n"
   ]
  },
  {
   "cell_type": "code",
   "execution_count": 4,
   "id": "fa8a8a27",
   "metadata": {},
   "outputs": [],
   "source": [
    "def adaboost_classifier(x, y, xt, yt):   \n",
    "    boost = AdaBoostClassifier()\n",
    "    boost.fit(x, y)                        #fitting the boost for train\n",
    "    print(boost)\n",
    "    y_pred = boost.predict(xt)                     #making predictions for test\n",
    "    predictions = [round(value) for value in y_pred]   #rounding the values \n",
    "    #accuracy\n",
    "    accuracy = accuracy_score(yt, predictions)     #accuracy result\n",
    "    print(\"Accuracy: %.2f%%\" %(accuracy*100.0))        #%2f for after point print only 2 values"
   ]
  },
  {
   "cell_type": "code",
   "execution_count": 5,
   "id": "9c06c365",
   "metadata": {},
   "outputs": [
    {
     "name": "stderr",
     "output_type": "stream",
     "text": [
      "/home/suvetha/anaconda3/lib/python3.8/site-packages/xgboost/compat.py:36: FutureWarning: pandas.Int64Index is deprecated and will be removed from pandas in a future version. Use pandas.Index with the appropriate dtype instead.\n",
      "  from pandas import MultiIndex, Int64Index\n"
     ]
    }
   ],
   "source": [
    "from xgboost import XGBClassifier\n",
    "def xgb_classifier(x, y, xt, yt):\n",
    "    boost2 = XGBClassifier()\n",
    "    boost2.fit(x, y)                       #fitting the boost2 for train\n",
    "    print(boost2)\n",
    "    y_pred = boost2.predict(xt)                    #making predictions for test\n",
    "    predictions = [round(value) for value in y_pred]   #rounding the values\n",
    "    #accuracy\n",
    "    accuracy = accuracy_score(yt, predictions)     #accuracy result\n",
    "    print(\"Accuracy: %.2f%%\" %(accuracy*100.0))        #%2f for after point print only 2 values"
   ]
  },
  {
   "cell_type": "code",
   "execution_count": 6,
   "id": "8ba748cc",
   "metadata": {},
   "outputs": [],
   "source": [
    "def gradientboost_classifier(x, y, xt, yt):\n",
    "    boost1 = GradientBoostingClassifier()   \n",
    "    boost1.fit(x, y)                       #fitting the boost1 for train\n",
    "    print(boost1)\n",
    "    y_pred = boost1.predict(xt)                    #making predictions for test\n",
    "    predictions = [round(value) for value in y_pred]   #rounding the values\n",
    "    #accuracy\n",
    "    accuracy = accuracy_score(yt, predictions)     #accuracy result\n",
    "    print(\"Accuracy: %.2f%%\" %(accuracy*100.0))        #%2f for after point print only 2 values"
   ]
  },
  {
   "cell_type": "code",
   "execution_count": 7,
   "id": "d92dbf14",
   "metadata": {},
   "outputs": [],
   "source": [
    "def logistic_regression(x, y, xt, yt):     \n",
    "    model = LogisticRegression()                        #reason - the plotted graph represents curve\n",
    "    model.fit(x, y)                         #fit for train\n",
    "    y_pred = model.predict(xt)                      #Generate predictions with the model using our X values\n",
    "    print(\"Confusion Matrix: \", confusion_matrix(yt, y_pred))  #confusion matrix\n",
    "    print (\"Accuracy : \", accuracy_score(yt,y_pred)*100)       #accuracy\n",
    "    print(\"Report : \", classification_report(yt, y_pred))      #classification report\n",
    "    \n",
    "    #precision - portion of positive identifications in a classification set that were actually correct\n",
    "    #recall - proportion of actual positives that were identified correctly\n"
   ]
  },
  {
   "cell_type": "code",
   "execution_count": 8,
   "id": "c918816d",
   "metadata": {},
   "outputs": [],
   "source": [
    "def knn(x, y, xt, yt):\n",
    "    model1 =  KNeighborsClassifier()\n",
    "    model1.fit(x, y)                         #fit for train\n",
    "    y_pred = model1.predict(xt)                      #Generate predictions with the model using our X values\n",
    "    print(\"Confusion Matrix: \", confusion_matrix(yt, y_pred))  #confusion matrix\n",
    "    print (\"Accuracy : \", accuracy_score(yt,y_pred)*100)       #accuracy\n",
    "    print(\"Report : \", classification_report(yt, y_pred))  "
   ]
  },
  {
   "cell_type": "code",
   "execution_count": 9,
   "id": "0eb6a10c",
   "metadata": {},
   "outputs": [],
   "source": [
    "def decision_tree(x, y, xt, yt):\n",
    "    model2 = DecisionTreeClassifier()\n",
    "    model2.fit(x, y)                         #fit for train\n",
    "    y_pred = model2.predict(xt)                      #Generate predictions with the model using our X values\n",
    "    print(\"Confusion Matrix: \", confusion_matrix(yt, y_pred))  #confusion matrix\n",
    "    print (\"Accuracy : \", accuracy_score(yt,y_pred)*100)       #accuracy\n",
    "    print(\"Report : \", classification_report(yt, y_pred)) \n"
   ]
  },
  {
   "cell_type": "code",
   "execution_count": 10,
   "id": "ac599d67",
   "metadata": {},
   "outputs": [],
   "source": [
    "def random_forest(x, y, xt, yt):\n",
    "    model3 = RandomForestClassifier()\n",
    "    model3.fit(x, y)                         #fit for train\n",
    "    y_pred = model3.predict(xt)                      #Generate predictions with the model using our X values\n",
    "    print(\"Confusion Matrix: \", confusion_matrix(yt, y_pred))  #confusion matrix\n",
    "    print (\"Accuracy : \", accuracy_score(yt,y_pred)*100)       #accuracy\n",
    "    print(\"Report : \", classification_report(yt, y_pred))\n",
    "    #yp = model3.predict(x_test)\n",
    "    #print(yp[76:79])"
   ]
  },
  {
   "cell_type": "code",
   "execution_count": 11,
   "id": "59e11f1d",
   "metadata": {},
   "outputs": [],
   "source": [
    "def svm(x, y, xt, yt):\n",
    "    model4 = SVC()\n",
    "    model4.fit(x, y)                         #fit for train\n",
    "    y_pred = model4.predict(xt)                      #Generate predictions with the model using our X values\n",
    "    print(\"Confusion Matrix: \", confusion_matrix(yt, y_pred))  #confusion matrix\n",
    "    print (\"Accuracy : \", accuracy_score(yt,y_pred)*100)       #accuracy\n",
    "    print(\"Report : \", classification_report(yt, y_pred))  "
   ]
  },
  {
   "cell_type": "code",
   "execution_count": 12,
   "id": "2549d8a2",
   "metadata": {
    "scrolled": true
   },
   "outputs": [],
   "source": [
    "def dropped_param():\n",
    "    print('Logistic Regression')\n",
    "    logistic_regression(x_train_drop, y_train_drop, x_test_drop, y_test_drop)\n",
    "    print('------------------------------')\n",
    "    print('knn')\n",
    "    knn(x_train_drop, y_train_drop, x_test_drop, y_test_drop)   \n",
    "    print('------------------------------')\n",
    "    print('Decision tree')\n",
    "    decision_tree(x_train_drop, y_train_drop, x_test_drop, y_test_drop)  \n",
    "    print('------------------------------')\n",
    "    print('Random forest')\n",
    "    random_forest(x_train_drop, y_train_drop, x_test_drop, y_test_drop) \n",
    "    print('------------------------------')\n",
    "    print('SVM')\n",
    "    svm(x_train_drop, y_train_drop, x_test_drop, y_test_drop)\n",
    "    \n",
    "    adaboost_classifier(x_train_drop, y_train_drop, x_test_drop, y_test_drop)\n",
    "    gradientboost_classifier(x_train_drop, y_train_drop, x_test_drop, y_test_drop)"
   ]
  },
  {
   "cell_type": "markdown",
   "id": "88248408",
   "metadata": {},
   "source": [
    "implementing the dataset"
   ]
  },
  {
   "cell_type": "code",
   "execution_count": 13,
   "id": "7a575a67",
   "metadata": {},
   "outputs": [
    {
     "name": "stdout",
     "output_type": "stream",
     "text": [
      "   age        job  marital    education  default housing loan    contact  \\\n",
      "0   56  housemaid  married     basic.4y       no      no   no  telephone   \n",
      "1   57   services  married  high.school  unknown      no   no  telephone   \n",
      "2   37   services  married  high.school       no     yes   no  telephone   \n",
      "3   40     admin.  married     basic.6y       no      no   no  telephone   \n",
      "4   56   services  married  high.school       no      no  yes  telephone   \n",
      "\n",
      "  month day_of_week  ...  campaign  pdays  previous     poutcome emp.var.rate  \\\n",
      "0   may         mon  ...         1    999         0  nonexistent          1.1   \n",
      "1   may         mon  ...         1    999         0  nonexistent          1.1   \n",
      "2   may         mon  ...         1    999         0  nonexistent          1.1   \n",
      "3   may         mon  ...         1    999         0  nonexistent          1.1   \n",
      "4   may         mon  ...         1    999         0  nonexistent          1.1   \n",
      "\n",
      "   cons.price.idx  cons.conf.idx  euribor3m  nr.employed   y  \n",
      "0          93.994          -36.4      4.857       5191.0  no  \n",
      "1          93.994          -36.4      4.857       5191.0  no  \n",
      "2          93.994          -36.4      4.857       5191.0  no  \n",
      "3          93.994          -36.4      4.857       5191.0  no  \n",
      "4          93.994          -36.4      4.857       5191.0  no  \n",
      "\n",
      "[5 rows x 21 columns]\n"
     ]
    }
   ],
   "source": [
    "data = pd.read_csv('bank-additional-full.csv', sep=';')   #Reading the csv file using pandas\n",
    "                                                          #the data in the dataset are seperated by ; so for easy analysis i used the ;\n",
    "print(data.head())                                        #printing only the first 5 rows"
   ]
  },
  {
   "cell_type": "code",
   "execution_count": 14,
   "id": "c8ff2440",
   "metadata": {},
   "outputs": [
    {
     "data": {
      "text/plain": [
       "(41188, 21)"
      ]
     },
     "execution_count": 14,
     "metadata": {},
     "output_type": "execute_result"
    }
   ],
   "source": [
    "data.shape   #41188 rows and 21 columns"
   ]
  },
  {
   "cell_type": "code",
   "execution_count": 15,
   "id": "63f0ca6f",
   "metadata": {},
   "outputs": [
    {
     "name": "stdout",
     "output_type": "stream",
     "text": [
      "<class 'pandas.core.frame.DataFrame'>\n",
      "RangeIndex: 41188 entries, 0 to 41187\n",
      "Data columns (total 21 columns):\n",
      " #   Column          Non-Null Count  Dtype  \n",
      "---  ------          --------------  -----  \n",
      " 0   age             41188 non-null  int64  \n",
      " 1   job             41188 non-null  object \n",
      " 2   marital         41188 non-null  object \n",
      " 3   education       41188 non-null  object \n",
      " 4   default         41188 non-null  object \n",
      " 5   housing         41188 non-null  object \n",
      " 6   loan            41188 non-null  object \n",
      " 7   contact         41188 non-null  object \n",
      " 8   month           41188 non-null  object \n",
      " 9   day_of_week     41188 non-null  object \n",
      " 10  duration        41188 non-null  int64  \n",
      " 11  campaign        41188 non-null  int64  \n",
      " 12  pdays           41188 non-null  int64  \n",
      " 13  previous        41188 non-null  int64  \n",
      " 14  poutcome        41188 non-null  object \n",
      " 15  emp.var.rate    41188 non-null  float64\n",
      " 16  cons.price.idx  41188 non-null  float64\n",
      " 17  cons.conf.idx   41188 non-null  float64\n",
      " 18  euribor3m       41188 non-null  float64\n",
      " 19  nr.employed     41188 non-null  float64\n",
      " 20  y               41188 non-null  object \n",
      "dtypes: float64(5), int64(5), object(11)\n",
      "memory usage: 6.6+ MB\n"
     ]
    }
   ],
   "source": [
    "data.info() #informations about the dataset such as column, non null counts, datatype of the particular feature"
   ]
  },
  {
   "cell_type": "code",
   "execution_count": 16,
   "id": "32659a17",
   "metadata": {},
   "outputs": [
    {
     "data": {
      "text/plain": [
       "Index(['age', 'job', 'marital', 'education', 'default', 'housing', 'loan',\n",
       "       'contact', 'month', 'day_of_week', 'duration', 'campaign', 'pdays',\n",
       "       'previous', 'poutcome', 'emp.var.rate', 'cons.price.idx',\n",
       "       'cons.conf.idx', 'euribor3m', 'nr.employed', 'y'],\n",
       "      dtype='object')"
      ]
     },
     "execution_count": 16,
     "metadata": {},
     "output_type": "execute_result"
    }
   ],
   "source": [
    "data.columns #checking the columns in the dataset"
   ]
  },
  {
   "cell_type": "code",
   "execution_count": 17,
   "id": "016baf13",
   "metadata": {},
   "outputs": [
    {
     "data": {
      "text/plain": [
       "age                 int64\n",
       "job                object\n",
       "marital            object\n",
       "education          object\n",
       "default            object\n",
       "housing            object\n",
       "loan               object\n",
       "contact            object\n",
       "month              object\n",
       "day_of_week        object\n",
       "duration            int64\n",
       "campaign            int64\n",
       "pdays               int64\n",
       "previous            int64\n",
       "poutcome           object\n",
       "emp.var.rate      float64\n",
       "cons.price.idx    float64\n",
       "cons.conf.idx     float64\n",
       "euribor3m         float64\n",
       "nr.employed       float64\n",
       "y                  object\n",
       "dtype: object"
      ]
     },
     "execution_count": 17,
     "metadata": {},
     "output_type": "execute_result"
    }
   ],
   "source": [
    "data.dtypes   #there are lot of object datatype in the dataset so we have to convert that into int"
   ]
  },
  {
   "cell_type": "code",
   "execution_count": 18,
   "id": "1f3b6dc3",
   "metadata": {},
   "outputs": [
    {
     "data": {
      "text/plain": [
       "age               0\n",
       "job               0\n",
       "marital           0\n",
       "education         0\n",
       "default           0\n",
       "housing           0\n",
       "loan              0\n",
       "contact           0\n",
       "month             0\n",
       "day_of_week       0\n",
       "duration          0\n",
       "campaign          0\n",
       "pdays             0\n",
       "previous          0\n",
       "poutcome          0\n",
       "emp.var.rate      0\n",
       "cons.price.idx    0\n",
       "cons.conf.idx     0\n",
       "euribor3m         0\n",
       "nr.employed       0\n",
       "y                 0\n",
       "dtype: int64"
      ]
     },
     "execution_count": 18,
     "metadata": {},
     "output_type": "execute_result"
    }
   ],
   "source": [
    "data.isnull().sum()   #checking if any of the data in the dataset contains null value"
   ]
  },
  {
   "cell_type": "markdown",
   "id": "d931bf23",
   "metadata": {},
   "source": [
    "Finding the unique values for the object datatypes"
   ]
  },
  {
   "cell_type": "code",
   "execution_count": 19,
   "id": "d768cde3",
   "metadata": {},
   "outputs": [
    {
     "data": {
      "text/html": [
       "<div>\n",
       "<style scoped>\n",
       "    .dataframe tbody tr th:only-of-type {\n",
       "        vertical-align: middle;\n",
       "    }\n",
       "\n",
       "    .dataframe tbody tr th {\n",
       "        vertical-align: top;\n",
       "    }\n",
       "\n",
       "    .dataframe thead th {\n",
       "        text-align: right;\n",
       "    }\n",
       "</style>\n",
       "<table border=\"1\" class=\"dataframe\">\n",
       "  <thead>\n",
       "    <tr style=\"text-align: right;\">\n",
       "      <th></th>\n",
       "      <th>age</th>\n",
       "      <th>duration</th>\n",
       "      <th>campaign</th>\n",
       "      <th>pdays</th>\n",
       "      <th>previous</th>\n",
       "      <th>emp.var.rate</th>\n",
       "      <th>cons.price.idx</th>\n",
       "      <th>cons.conf.idx</th>\n",
       "      <th>euribor3m</th>\n",
       "      <th>nr.employed</th>\n",
       "    </tr>\n",
       "  </thead>\n",
       "  <tbody>\n",
       "    <tr>\n",
       "      <th>count</th>\n",
       "      <td>41188.00000</td>\n",
       "      <td>41188.000000</td>\n",
       "      <td>41188.000000</td>\n",
       "      <td>41188.000000</td>\n",
       "      <td>41188.000000</td>\n",
       "      <td>41188.000000</td>\n",
       "      <td>41188.000000</td>\n",
       "      <td>41188.000000</td>\n",
       "      <td>41188.000000</td>\n",
       "      <td>41188.000000</td>\n",
       "    </tr>\n",
       "    <tr>\n",
       "      <th>mean</th>\n",
       "      <td>40.02406</td>\n",
       "      <td>258.285010</td>\n",
       "      <td>2.567593</td>\n",
       "      <td>962.475454</td>\n",
       "      <td>0.172963</td>\n",
       "      <td>0.081886</td>\n",
       "      <td>93.575664</td>\n",
       "      <td>-40.502600</td>\n",
       "      <td>3.621291</td>\n",
       "      <td>5167.035911</td>\n",
       "    </tr>\n",
       "    <tr>\n",
       "      <th>std</th>\n",
       "      <td>10.42125</td>\n",
       "      <td>259.279249</td>\n",
       "      <td>2.770014</td>\n",
       "      <td>186.910907</td>\n",
       "      <td>0.494901</td>\n",
       "      <td>1.570960</td>\n",
       "      <td>0.578840</td>\n",
       "      <td>4.628198</td>\n",
       "      <td>1.734447</td>\n",
       "      <td>72.251528</td>\n",
       "    </tr>\n",
       "    <tr>\n",
       "      <th>min</th>\n",
       "      <td>17.00000</td>\n",
       "      <td>0.000000</td>\n",
       "      <td>1.000000</td>\n",
       "      <td>0.000000</td>\n",
       "      <td>0.000000</td>\n",
       "      <td>-3.400000</td>\n",
       "      <td>92.201000</td>\n",
       "      <td>-50.800000</td>\n",
       "      <td>0.634000</td>\n",
       "      <td>4963.600000</td>\n",
       "    </tr>\n",
       "    <tr>\n",
       "      <th>25%</th>\n",
       "      <td>32.00000</td>\n",
       "      <td>102.000000</td>\n",
       "      <td>1.000000</td>\n",
       "      <td>999.000000</td>\n",
       "      <td>0.000000</td>\n",
       "      <td>-1.800000</td>\n",
       "      <td>93.075000</td>\n",
       "      <td>-42.700000</td>\n",
       "      <td>1.344000</td>\n",
       "      <td>5099.100000</td>\n",
       "    </tr>\n",
       "    <tr>\n",
       "      <th>50%</th>\n",
       "      <td>38.00000</td>\n",
       "      <td>180.000000</td>\n",
       "      <td>2.000000</td>\n",
       "      <td>999.000000</td>\n",
       "      <td>0.000000</td>\n",
       "      <td>1.100000</td>\n",
       "      <td>93.749000</td>\n",
       "      <td>-41.800000</td>\n",
       "      <td>4.857000</td>\n",
       "      <td>5191.000000</td>\n",
       "    </tr>\n",
       "    <tr>\n",
       "      <th>75%</th>\n",
       "      <td>47.00000</td>\n",
       "      <td>319.000000</td>\n",
       "      <td>3.000000</td>\n",
       "      <td>999.000000</td>\n",
       "      <td>0.000000</td>\n",
       "      <td>1.400000</td>\n",
       "      <td>93.994000</td>\n",
       "      <td>-36.400000</td>\n",
       "      <td>4.961000</td>\n",
       "      <td>5228.100000</td>\n",
       "    </tr>\n",
       "    <tr>\n",
       "      <th>max</th>\n",
       "      <td>98.00000</td>\n",
       "      <td>4918.000000</td>\n",
       "      <td>56.000000</td>\n",
       "      <td>999.000000</td>\n",
       "      <td>7.000000</td>\n",
       "      <td>1.400000</td>\n",
       "      <td>94.767000</td>\n",
       "      <td>-26.900000</td>\n",
       "      <td>5.045000</td>\n",
       "      <td>5228.100000</td>\n",
       "    </tr>\n",
       "  </tbody>\n",
       "</table>\n",
       "</div>"
      ],
      "text/plain": [
       "               age      duration      campaign         pdays      previous  \\\n",
       "count  41188.00000  41188.000000  41188.000000  41188.000000  41188.000000   \n",
       "mean      40.02406    258.285010      2.567593    962.475454      0.172963   \n",
       "std       10.42125    259.279249      2.770014    186.910907      0.494901   \n",
       "min       17.00000      0.000000      1.000000      0.000000      0.000000   \n",
       "25%       32.00000    102.000000      1.000000    999.000000      0.000000   \n",
       "50%       38.00000    180.000000      2.000000    999.000000      0.000000   \n",
       "75%       47.00000    319.000000      3.000000    999.000000      0.000000   \n",
       "max       98.00000   4918.000000     56.000000    999.000000      7.000000   \n",
       "\n",
       "       emp.var.rate  cons.price.idx  cons.conf.idx     euribor3m   nr.employed  \n",
       "count  41188.000000    41188.000000   41188.000000  41188.000000  41188.000000  \n",
       "mean       0.081886       93.575664     -40.502600      3.621291   5167.035911  \n",
       "std        1.570960        0.578840       4.628198      1.734447     72.251528  \n",
       "min       -3.400000       92.201000     -50.800000      0.634000   4963.600000  \n",
       "25%       -1.800000       93.075000     -42.700000      1.344000   5099.100000  \n",
       "50%        1.100000       93.749000     -41.800000      4.857000   5191.000000  \n",
       "75%        1.400000       93.994000     -36.400000      4.961000   5228.100000  \n",
       "max        1.400000       94.767000     -26.900000      5.045000   5228.100000  "
      ]
     },
     "execution_count": 19,
     "metadata": {},
     "output_type": "execute_result"
    }
   ],
   "source": [
    "data.describe()  #it returns the description of data in the dataset suxh as count, mean,..."
   ]
  },
  {
   "cell_type": "code",
   "execution_count": 20,
   "id": "b119fa38",
   "metadata": {
    "scrolled": true
   },
   "outputs": [
    {
     "data": {
      "text/plain": [
       "y  \n",
       "no     36548\n",
       "yes     4640\n",
       "dtype: int64"
      ]
     },
     "execution_count": 20,
     "metadata": {},
     "output_type": "execute_result"
    }
   ],
   "source": [
    "data.value_counts('y')"
   ]
  },
  {
   "cell_type": "code",
   "execution_count": 21,
   "id": "c568a4df",
   "metadata": {},
   "outputs": [
    {
     "data": {
      "text/html": [
       "<div>\n",
       "<style scoped>\n",
       "    .dataframe tbody tr th:only-of-type {\n",
       "        vertical-align: middle;\n",
       "    }\n",
       "\n",
       "    .dataframe tbody tr th {\n",
       "        vertical-align: top;\n",
       "    }\n",
       "\n",
       "    .dataframe thead th {\n",
       "        text-align: right;\n",
       "    }\n",
       "</style>\n",
       "<table border=\"1\" class=\"dataframe\">\n",
       "  <thead>\n",
       "    <tr style=\"text-align: right;\">\n",
       "      <th></th>\n",
       "      <th>age</th>\n",
       "      <th>job</th>\n",
       "      <th>marital</th>\n",
       "      <th>education</th>\n",
       "      <th>default</th>\n",
       "      <th>housing</th>\n",
       "      <th>loan</th>\n",
       "      <th>contact</th>\n",
       "      <th>month</th>\n",
       "      <th>day_of_week</th>\n",
       "      <th>...</th>\n",
       "      <th>campaign</th>\n",
       "      <th>pdays</th>\n",
       "      <th>previous</th>\n",
       "      <th>poutcome</th>\n",
       "      <th>emp.var.rate</th>\n",
       "      <th>cons.price.idx</th>\n",
       "      <th>cons.conf.idx</th>\n",
       "      <th>euribor3m</th>\n",
       "      <th>nr.employed</th>\n",
       "      <th>y</th>\n",
       "    </tr>\n",
       "  </thead>\n",
       "  <tbody>\n",
       "    <tr>\n",
       "      <th>0</th>\n",
       "      <td>56</td>\n",
       "      <td>housemaid</td>\n",
       "      <td>married</td>\n",
       "      <td>basic.4y</td>\n",
       "      <td>no</td>\n",
       "      <td>no</td>\n",
       "      <td>no</td>\n",
       "      <td>telephone</td>\n",
       "      <td>may</td>\n",
       "      <td>mon</td>\n",
       "      <td>...</td>\n",
       "      <td>1</td>\n",
       "      <td>999</td>\n",
       "      <td>0</td>\n",
       "      <td>nonexistent</td>\n",
       "      <td>1.1</td>\n",
       "      <td>93.994</td>\n",
       "      <td>-36.4</td>\n",
       "      <td>4.857</td>\n",
       "      <td>5191.0</td>\n",
       "      <td>no</td>\n",
       "    </tr>\n",
       "    <tr>\n",
       "      <th>1</th>\n",
       "      <td>57</td>\n",
       "      <td>services</td>\n",
       "      <td>married</td>\n",
       "      <td>high.school</td>\n",
       "      <td>unknown</td>\n",
       "      <td>no</td>\n",
       "      <td>no</td>\n",
       "      <td>telephone</td>\n",
       "      <td>may</td>\n",
       "      <td>mon</td>\n",
       "      <td>...</td>\n",
       "      <td>1</td>\n",
       "      <td>999</td>\n",
       "      <td>0</td>\n",
       "      <td>nonexistent</td>\n",
       "      <td>1.1</td>\n",
       "      <td>93.994</td>\n",
       "      <td>-36.4</td>\n",
       "      <td>4.857</td>\n",
       "      <td>5191.0</td>\n",
       "      <td>no</td>\n",
       "    </tr>\n",
       "    <tr>\n",
       "      <th>2</th>\n",
       "      <td>37</td>\n",
       "      <td>services</td>\n",
       "      <td>married</td>\n",
       "      <td>high.school</td>\n",
       "      <td>no</td>\n",
       "      <td>yes</td>\n",
       "      <td>no</td>\n",
       "      <td>telephone</td>\n",
       "      <td>may</td>\n",
       "      <td>mon</td>\n",
       "      <td>...</td>\n",
       "      <td>1</td>\n",
       "      <td>999</td>\n",
       "      <td>0</td>\n",
       "      <td>nonexistent</td>\n",
       "      <td>1.1</td>\n",
       "      <td>93.994</td>\n",
       "      <td>-36.4</td>\n",
       "      <td>4.857</td>\n",
       "      <td>5191.0</td>\n",
       "      <td>no</td>\n",
       "    </tr>\n",
       "    <tr>\n",
       "      <th>3</th>\n",
       "      <td>40</td>\n",
       "      <td>admin.</td>\n",
       "      <td>married</td>\n",
       "      <td>basic.6y</td>\n",
       "      <td>no</td>\n",
       "      <td>no</td>\n",
       "      <td>no</td>\n",
       "      <td>telephone</td>\n",
       "      <td>may</td>\n",
       "      <td>mon</td>\n",
       "      <td>...</td>\n",
       "      <td>1</td>\n",
       "      <td>999</td>\n",
       "      <td>0</td>\n",
       "      <td>nonexistent</td>\n",
       "      <td>1.1</td>\n",
       "      <td>93.994</td>\n",
       "      <td>-36.4</td>\n",
       "      <td>4.857</td>\n",
       "      <td>5191.0</td>\n",
       "      <td>no</td>\n",
       "    </tr>\n",
       "    <tr>\n",
       "      <th>4</th>\n",
       "      <td>56</td>\n",
       "      <td>services</td>\n",
       "      <td>married</td>\n",
       "      <td>high.school</td>\n",
       "      <td>no</td>\n",
       "      <td>no</td>\n",
       "      <td>yes</td>\n",
       "      <td>telephone</td>\n",
       "      <td>may</td>\n",
       "      <td>mon</td>\n",
       "      <td>...</td>\n",
       "      <td>1</td>\n",
       "      <td>999</td>\n",
       "      <td>0</td>\n",
       "      <td>nonexistent</td>\n",
       "      <td>1.1</td>\n",
       "      <td>93.994</td>\n",
       "      <td>-36.4</td>\n",
       "      <td>4.857</td>\n",
       "      <td>5191.0</td>\n",
       "      <td>no</td>\n",
       "    </tr>\n",
       "    <tr>\n",
       "      <th>5</th>\n",
       "      <td>45</td>\n",
       "      <td>services</td>\n",
       "      <td>married</td>\n",
       "      <td>basic.9y</td>\n",
       "      <td>unknown</td>\n",
       "      <td>no</td>\n",
       "      <td>no</td>\n",
       "      <td>telephone</td>\n",
       "      <td>may</td>\n",
       "      <td>mon</td>\n",
       "      <td>...</td>\n",
       "      <td>1</td>\n",
       "      <td>999</td>\n",
       "      <td>0</td>\n",
       "      <td>nonexistent</td>\n",
       "      <td>1.1</td>\n",
       "      <td>93.994</td>\n",
       "      <td>-36.4</td>\n",
       "      <td>4.857</td>\n",
       "      <td>5191.0</td>\n",
       "      <td>no</td>\n",
       "    </tr>\n",
       "    <tr>\n",
       "      <th>6</th>\n",
       "      <td>59</td>\n",
       "      <td>admin.</td>\n",
       "      <td>married</td>\n",
       "      <td>professional.course</td>\n",
       "      <td>no</td>\n",
       "      <td>no</td>\n",
       "      <td>no</td>\n",
       "      <td>telephone</td>\n",
       "      <td>may</td>\n",
       "      <td>mon</td>\n",
       "      <td>...</td>\n",
       "      <td>1</td>\n",
       "      <td>999</td>\n",
       "      <td>0</td>\n",
       "      <td>nonexistent</td>\n",
       "      <td>1.1</td>\n",
       "      <td>93.994</td>\n",
       "      <td>-36.4</td>\n",
       "      <td>4.857</td>\n",
       "      <td>5191.0</td>\n",
       "      <td>no</td>\n",
       "    </tr>\n",
       "    <tr>\n",
       "      <th>7</th>\n",
       "      <td>41</td>\n",
       "      <td>blue-collar</td>\n",
       "      <td>married</td>\n",
       "      <td>unknown</td>\n",
       "      <td>unknown</td>\n",
       "      <td>no</td>\n",
       "      <td>no</td>\n",
       "      <td>telephone</td>\n",
       "      <td>may</td>\n",
       "      <td>mon</td>\n",
       "      <td>...</td>\n",
       "      <td>1</td>\n",
       "      <td>999</td>\n",
       "      <td>0</td>\n",
       "      <td>nonexistent</td>\n",
       "      <td>1.1</td>\n",
       "      <td>93.994</td>\n",
       "      <td>-36.4</td>\n",
       "      <td>4.857</td>\n",
       "      <td>5191.0</td>\n",
       "      <td>no</td>\n",
       "    </tr>\n",
       "    <tr>\n",
       "      <th>8</th>\n",
       "      <td>24</td>\n",
       "      <td>technician</td>\n",
       "      <td>single</td>\n",
       "      <td>professional.course</td>\n",
       "      <td>no</td>\n",
       "      <td>yes</td>\n",
       "      <td>no</td>\n",
       "      <td>telephone</td>\n",
       "      <td>may</td>\n",
       "      <td>mon</td>\n",
       "      <td>...</td>\n",
       "      <td>1</td>\n",
       "      <td>999</td>\n",
       "      <td>0</td>\n",
       "      <td>nonexistent</td>\n",
       "      <td>1.1</td>\n",
       "      <td>93.994</td>\n",
       "      <td>-36.4</td>\n",
       "      <td>4.857</td>\n",
       "      <td>5191.0</td>\n",
       "      <td>no</td>\n",
       "    </tr>\n",
       "    <tr>\n",
       "      <th>9</th>\n",
       "      <td>25</td>\n",
       "      <td>services</td>\n",
       "      <td>single</td>\n",
       "      <td>high.school</td>\n",
       "      <td>no</td>\n",
       "      <td>yes</td>\n",
       "      <td>no</td>\n",
       "      <td>telephone</td>\n",
       "      <td>may</td>\n",
       "      <td>mon</td>\n",
       "      <td>...</td>\n",
       "      <td>1</td>\n",
       "      <td>999</td>\n",
       "      <td>0</td>\n",
       "      <td>nonexistent</td>\n",
       "      <td>1.1</td>\n",
       "      <td>93.994</td>\n",
       "      <td>-36.4</td>\n",
       "      <td>4.857</td>\n",
       "      <td>5191.0</td>\n",
       "      <td>no</td>\n",
       "    </tr>\n",
       "    <tr>\n",
       "      <th>10</th>\n",
       "      <td>41</td>\n",
       "      <td>blue-collar</td>\n",
       "      <td>married</td>\n",
       "      <td>unknown</td>\n",
       "      <td>unknown</td>\n",
       "      <td>no</td>\n",
       "      <td>no</td>\n",
       "      <td>telephone</td>\n",
       "      <td>may</td>\n",
       "      <td>mon</td>\n",
       "      <td>...</td>\n",
       "      <td>1</td>\n",
       "      <td>999</td>\n",
       "      <td>0</td>\n",
       "      <td>nonexistent</td>\n",
       "      <td>1.1</td>\n",
       "      <td>93.994</td>\n",
       "      <td>-36.4</td>\n",
       "      <td>4.857</td>\n",
       "      <td>5191.0</td>\n",
       "      <td>no</td>\n",
       "    </tr>\n",
       "    <tr>\n",
       "      <th>11</th>\n",
       "      <td>25</td>\n",
       "      <td>services</td>\n",
       "      <td>single</td>\n",
       "      <td>high.school</td>\n",
       "      <td>no</td>\n",
       "      <td>yes</td>\n",
       "      <td>no</td>\n",
       "      <td>telephone</td>\n",
       "      <td>may</td>\n",
       "      <td>mon</td>\n",
       "      <td>...</td>\n",
       "      <td>1</td>\n",
       "      <td>999</td>\n",
       "      <td>0</td>\n",
       "      <td>nonexistent</td>\n",
       "      <td>1.1</td>\n",
       "      <td>93.994</td>\n",
       "      <td>-36.4</td>\n",
       "      <td>4.857</td>\n",
       "      <td>5191.0</td>\n",
       "      <td>no</td>\n",
       "    </tr>\n",
       "    <tr>\n",
       "      <th>12</th>\n",
       "      <td>29</td>\n",
       "      <td>blue-collar</td>\n",
       "      <td>single</td>\n",
       "      <td>high.school</td>\n",
       "      <td>no</td>\n",
       "      <td>no</td>\n",
       "      <td>yes</td>\n",
       "      <td>telephone</td>\n",
       "      <td>may</td>\n",
       "      <td>mon</td>\n",
       "      <td>...</td>\n",
       "      <td>1</td>\n",
       "      <td>999</td>\n",
       "      <td>0</td>\n",
       "      <td>nonexistent</td>\n",
       "      <td>1.1</td>\n",
       "      <td>93.994</td>\n",
       "      <td>-36.4</td>\n",
       "      <td>4.857</td>\n",
       "      <td>5191.0</td>\n",
       "      <td>no</td>\n",
       "    </tr>\n",
       "    <tr>\n",
       "      <th>13</th>\n",
       "      <td>57</td>\n",
       "      <td>housemaid</td>\n",
       "      <td>divorced</td>\n",
       "      <td>basic.4y</td>\n",
       "      <td>no</td>\n",
       "      <td>yes</td>\n",
       "      <td>no</td>\n",
       "      <td>telephone</td>\n",
       "      <td>may</td>\n",
       "      <td>mon</td>\n",
       "      <td>...</td>\n",
       "      <td>1</td>\n",
       "      <td>999</td>\n",
       "      <td>0</td>\n",
       "      <td>nonexistent</td>\n",
       "      <td>1.1</td>\n",
       "      <td>93.994</td>\n",
       "      <td>-36.4</td>\n",
       "      <td>4.857</td>\n",
       "      <td>5191.0</td>\n",
       "      <td>no</td>\n",
       "    </tr>\n",
       "    <tr>\n",
       "      <th>14</th>\n",
       "      <td>35</td>\n",
       "      <td>blue-collar</td>\n",
       "      <td>married</td>\n",
       "      <td>basic.6y</td>\n",
       "      <td>no</td>\n",
       "      <td>yes</td>\n",
       "      <td>no</td>\n",
       "      <td>telephone</td>\n",
       "      <td>may</td>\n",
       "      <td>mon</td>\n",
       "      <td>...</td>\n",
       "      <td>1</td>\n",
       "      <td>999</td>\n",
       "      <td>0</td>\n",
       "      <td>nonexistent</td>\n",
       "      <td>1.1</td>\n",
       "      <td>93.994</td>\n",
       "      <td>-36.4</td>\n",
       "      <td>4.857</td>\n",
       "      <td>5191.0</td>\n",
       "      <td>no</td>\n",
       "    </tr>\n",
       "    <tr>\n",
       "      <th>15</th>\n",
       "      <td>54</td>\n",
       "      <td>retired</td>\n",
       "      <td>married</td>\n",
       "      <td>basic.9y</td>\n",
       "      <td>unknown</td>\n",
       "      <td>yes</td>\n",
       "      <td>yes</td>\n",
       "      <td>telephone</td>\n",
       "      <td>may</td>\n",
       "      <td>mon</td>\n",
       "      <td>...</td>\n",
       "      <td>1</td>\n",
       "      <td>999</td>\n",
       "      <td>0</td>\n",
       "      <td>nonexistent</td>\n",
       "      <td>1.1</td>\n",
       "      <td>93.994</td>\n",
       "      <td>-36.4</td>\n",
       "      <td>4.857</td>\n",
       "      <td>5191.0</td>\n",
       "      <td>no</td>\n",
       "    </tr>\n",
       "    <tr>\n",
       "      <th>16</th>\n",
       "      <td>35</td>\n",
       "      <td>blue-collar</td>\n",
       "      <td>married</td>\n",
       "      <td>basic.6y</td>\n",
       "      <td>no</td>\n",
       "      <td>yes</td>\n",
       "      <td>no</td>\n",
       "      <td>telephone</td>\n",
       "      <td>may</td>\n",
       "      <td>mon</td>\n",
       "      <td>...</td>\n",
       "      <td>1</td>\n",
       "      <td>999</td>\n",
       "      <td>0</td>\n",
       "      <td>nonexistent</td>\n",
       "      <td>1.1</td>\n",
       "      <td>93.994</td>\n",
       "      <td>-36.4</td>\n",
       "      <td>4.857</td>\n",
       "      <td>5191.0</td>\n",
       "      <td>no</td>\n",
       "    </tr>\n",
       "    <tr>\n",
       "      <th>17</th>\n",
       "      <td>46</td>\n",
       "      <td>blue-collar</td>\n",
       "      <td>married</td>\n",
       "      <td>basic.6y</td>\n",
       "      <td>unknown</td>\n",
       "      <td>yes</td>\n",
       "      <td>yes</td>\n",
       "      <td>telephone</td>\n",
       "      <td>may</td>\n",
       "      <td>mon</td>\n",
       "      <td>...</td>\n",
       "      <td>1</td>\n",
       "      <td>999</td>\n",
       "      <td>0</td>\n",
       "      <td>nonexistent</td>\n",
       "      <td>1.1</td>\n",
       "      <td>93.994</td>\n",
       "      <td>-36.4</td>\n",
       "      <td>4.857</td>\n",
       "      <td>5191.0</td>\n",
       "      <td>no</td>\n",
       "    </tr>\n",
       "    <tr>\n",
       "      <th>18</th>\n",
       "      <td>50</td>\n",
       "      <td>blue-collar</td>\n",
       "      <td>married</td>\n",
       "      <td>basic.9y</td>\n",
       "      <td>no</td>\n",
       "      <td>yes</td>\n",
       "      <td>yes</td>\n",
       "      <td>telephone</td>\n",
       "      <td>may</td>\n",
       "      <td>mon</td>\n",
       "      <td>...</td>\n",
       "      <td>1</td>\n",
       "      <td>999</td>\n",
       "      <td>0</td>\n",
       "      <td>nonexistent</td>\n",
       "      <td>1.1</td>\n",
       "      <td>93.994</td>\n",
       "      <td>-36.4</td>\n",
       "      <td>4.857</td>\n",
       "      <td>5191.0</td>\n",
       "      <td>no</td>\n",
       "    </tr>\n",
       "    <tr>\n",
       "      <th>19</th>\n",
       "      <td>39</td>\n",
       "      <td>management</td>\n",
       "      <td>single</td>\n",
       "      <td>basic.9y</td>\n",
       "      <td>unknown</td>\n",
       "      <td>no</td>\n",
       "      <td>no</td>\n",
       "      <td>telephone</td>\n",
       "      <td>may</td>\n",
       "      <td>mon</td>\n",
       "      <td>...</td>\n",
       "      <td>1</td>\n",
       "      <td>999</td>\n",
       "      <td>0</td>\n",
       "      <td>nonexistent</td>\n",
       "      <td>1.1</td>\n",
       "      <td>93.994</td>\n",
       "      <td>-36.4</td>\n",
       "      <td>4.857</td>\n",
       "      <td>5191.0</td>\n",
       "      <td>no</td>\n",
       "    </tr>\n",
       "    <tr>\n",
       "      <th>20</th>\n",
       "      <td>30</td>\n",
       "      <td>unemployed</td>\n",
       "      <td>married</td>\n",
       "      <td>high.school</td>\n",
       "      <td>no</td>\n",
       "      <td>no</td>\n",
       "      <td>no</td>\n",
       "      <td>telephone</td>\n",
       "      <td>may</td>\n",
       "      <td>mon</td>\n",
       "      <td>...</td>\n",
       "      <td>1</td>\n",
       "      <td>999</td>\n",
       "      <td>0</td>\n",
       "      <td>nonexistent</td>\n",
       "      <td>1.1</td>\n",
       "      <td>93.994</td>\n",
       "      <td>-36.4</td>\n",
       "      <td>4.857</td>\n",
       "      <td>5191.0</td>\n",
       "      <td>no</td>\n",
       "    </tr>\n",
       "  </tbody>\n",
       "</table>\n",
       "<p>21 rows × 21 columns</p>\n",
       "</div>"
      ],
      "text/plain": [
       "    age          job   marital            education  default housing loan  \\\n",
       "0    56    housemaid   married             basic.4y       no      no   no   \n",
       "1    57     services   married          high.school  unknown      no   no   \n",
       "2    37     services   married          high.school       no     yes   no   \n",
       "3    40       admin.   married             basic.6y       no      no   no   \n",
       "4    56     services   married          high.school       no      no  yes   \n",
       "5    45     services   married             basic.9y  unknown      no   no   \n",
       "6    59       admin.   married  professional.course       no      no   no   \n",
       "7    41  blue-collar   married              unknown  unknown      no   no   \n",
       "8    24   technician    single  professional.course       no     yes   no   \n",
       "9    25     services    single          high.school       no     yes   no   \n",
       "10   41  blue-collar   married              unknown  unknown      no   no   \n",
       "11   25     services    single          high.school       no     yes   no   \n",
       "12   29  blue-collar    single          high.school       no      no  yes   \n",
       "13   57    housemaid  divorced             basic.4y       no     yes   no   \n",
       "14   35  blue-collar   married             basic.6y       no     yes   no   \n",
       "15   54      retired   married             basic.9y  unknown     yes  yes   \n",
       "16   35  blue-collar   married             basic.6y       no     yes   no   \n",
       "17   46  blue-collar   married             basic.6y  unknown     yes  yes   \n",
       "18   50  blue-collar   married             basic.9y       no     yes  yes   \n",
       "19   39   management    single             basic.9y  unknown      no   no   \n",
       "20   30   unemployed   married          high.school       no      no   no   \n",
       "\n",
       "      contact month day_of_week  ...  campaign  pdays  previous     poutcome  \\\n",
       "0   telephone   may         mon  ...         1    999         0  nonexistent   \n",
       "1   telephone   may         mon  ...         1    999         0  nonexistent   \n",
       "2   telephone   may         mon  ...         1    999         0  nonexistent   \n",
       "3   telephone   may         mon  ...         1    999         0  nonexistent   \n",
       "4   telephone   may         mon  ...         1    999         0  nonexistent   \n",
       "5   telephone   may         mon  ...         1    999         0  nonexistent   \n",
       "6   telephone   may         mon  ...         1    999         0  nonexistent   \n",
       "7   telephone   may         mon  ...         1    999         0  nonexistent   \n",
       "8   telephone   may         mon  ...         1    999         0  nonexistent   \n",
       "9   telephone   may         mon  ...         1    999         0  nonexistent   \n",
       "10  telephone   may         mon  ...         1    999         0  nonexistent   \n",
       "11  telephone   may         mon  ...         1    999         0  nonexistent   \n",
       "12  telephone   may         mon  ...         1    999         0  nonexistent   \n",
       "13  telephone   may         mon  ...         1    999         0  nonexistent   \n",
       "14  telephone   may         mon  ...         1    999         0  nonexistent   \n",
       "15  telephone   may         mon  ...         1    999         0  nonexistent   \n",
       "16  telephone   may         mon  ...         1    999         0  nonexistent   \n",
       "17  telephone   may         mon  ...         1    999         0  nonexistent   \n",
       "18  telephone   may         mon  ...         1    999         0  nonexistent   \n",
       "19  telephone   may         mon  ...         1    999         0  nonexistent   \n",
       "20  telephone   may         mon  ...         1    999         0  nonexistent   \n",
       "\n",
       "   emp.var.rate  cons.price.idx  cons.conf.idx  euribor3m  nr.employed   y  \n",
       "0           1.1          93.994          -36.4      4.857       5191.0  no  \n",
       "1           1.1          93.994          -36.4      4.857       5191.0  no  \n",
       "2           1.1          93.994          -36.4      4.857       5191.0  no  \n",
       "3           1.1          93.994          -36.4      4.857       5191.0  no  \n",
       "4           1.1          93.994          -36.4      4.857       5191.0  no  \n",
       "5           1.1          93.994          -36.4      4.857       5191.0  no  \n",
       "6           1.1          93.994          -36.4      4.857       5191.0  no  \n",
       "7           1.1          93.994          -36.4      4.857       5191.0  no  \n",
       "8           1.1          93.994          -36.4      4.857       5191.0  no  \n",
       "9           1.1          93.994          -36.4      4.857       5191.0  no  \n",
       "10          1.1          93.994          -36.4      4.857       5191.0  no  \n",
       "11          1.1          93.994          -36.4      4.857       5191.0  no  \n",
       "12          1.1          93.994          -36.4      4.857       5191.0  no  \n",
       "13          1.1          93.994          -36.4      4.857       5191.0  no  \n",
       "14          1.1          93.994          -36.4      4.857       5191.0  no  \n",
       "15          1.1          93.994          -36.4      4.857       5191.0  no  \n",
       "16          1.1          93.994          -36.4      4.857       5191.0  no  \n",
       "17          1.1          93.994          -36.4      4.857       5191.0  no  \n",
       "18          1.1          93.994          -36.4      4.857       5191.0  no  \n",
       "19          1.1          93.994          -36.4      4.857       5191.0  no  \n",
       "20          1.1          93.994          -36.4      4.857       5191.0  no  \n",
       "\n",
       "[21 rows x 21 columns]"
      ]
     },
     "execution_count": 21,
     "metadata": {},
     "output_type": "execute_result"
    }
   ],
   "source": [
    "data.head(21) #chekcking the 22 colums for conformation of changes"
   ]
  },
  {
   "cell_type": "code",
   "execution_count": 22,
   "id": "1872e9e2",
   "metadata": {},
   "outputs": [
    {
     "data": {
      "text/plain": [
       "age                 int64\n",
       "job                object\n",
       "marital            object\n",
       "education          object\n",
       "default            object\n",
       "housing            object\n",
       "loan               object\n",
       "contact            object\n",
       "month              object\n",
       "day_of_week        object\n",
       "duration            int64\n",
       "campaign            int64\n",
       "pdays               int64\n",
       "previous            int64\n",
       "poutcome           object\n",
       "emp.var.rate      float64\n",
       "cons.price.idx    float64\n",
       "cons.conf.idx     float64\n",
       "euribor3m         float64\n",
       "nr.employed       float64\n",
       "y                  object\n",
       "dtype: object"
      ]
     },
     "execution_count": 22,
     "metadata": {},
     "output_type": "execute_result"
    }
   ],
   "source": [
    "data.dtypes  #now everthing is changed into numeric we can proceed with the visualization part"
   ]
  },
  {
   "cell_type": "code",
   "execution_count": 23,
   "id": "d475ed38",
   "metadata": {},
   "outputs": [
    {
     "name": "stdout",
     "output_type": "stream",
     "text": [
      "job: ['housemaid' 'services' 'admin.' 'blue-collar' 'technician' 'retired'\n",
      " 'management' 'unemployed' 'self-employed' 'unknown' 'entrepreneur'\n",
      " 'student']\n",
      "marital: ['married' 'single' 'divorced' 'unknown']\n",
      "education: ['basic.4y' 'high.school' 'basic.6y' 'basic.9y' 'professional.course'\n",
      " 'unknown' 'university.degree' 'illiterate']\n",
      "default: ['no' 'unknown' 'yes']\n",
      "housing: ['no' 'yes' 'unknown']\n",
      "loan: ['no' 'yes' 'unknown']\n",
      "contact: ['telephone' 'cellular']\n",
      "month: ['may' 'jun' 'jul' 'aug' 'oct' 'nov' 'dec' 'mar' 'apr' 'sep']\n",
      "day_of_week: ['mon' 'tue' 'wed' 'thu' 'fri']\n",
      "poutcome: ['nonexistent' 'failure' 'success']\n",
      "y: ['no' 'yes']\n"
     ]
    }
   ],
   "source": [
    "print_unique_col_values(data)"
   ]
  },
  {
   "cell_type": "code",
   "execution_count": 24,
   "id": "bebb7829",
   "metadata": {},
   "outputs": [
    {
     "name": "stdout",
     "output_type": "stream",
     "text": [
      "0        0\n",
      "1        0\n",
      "2        0\n",
      "3        0\n",
      "4        0\n",
      "        ..\n",
      "41183    1\n",
      "41184    0\n",
      "41185    0\n",
      "41186    1\n",
      "41187    0\n",
      "Name: y, Length: 41188, dtype: int64\n",
      "0        1\n",
      "1        2\n",
      "2        2\n",
      "3        3\n",
      "4        2\n",
      "        ..\n",
      "41183    6\n",
      "41184    4\n",
      "41185    6\n",
      "41186    5\n",
      "41187    6\n",
      "Name: job, Length: 41188, dtype: int64\n",
      "0        11\n",
      "1        11\n",
      "2        11\n",
      "3        11\n",
      "4        11\n",
      "         ..\n",
      "41183    11\n",
      "41184    11\n",
      "41185    11\n",
      "41186    11\n",
      "41187    11\n",
      "Name: marital, Length: 41188, dtype: int64\n",
      "0        1\n",
      "1        2\n",
      "2        2\n",
      "3        3\n",
      "4        2\n",
      "        ..\n",
      "41183    5\n",
      "41184    5\n",
      "41185    6\n",
      "41186    5\n",
      "41187    5\n",
      "Name: education, Length: 41188, dtype: int64\n",
      "0        0\n",
      "1        2\n",
      "2        0\n",
      "3        0\n",
      "4        0\n",
      "        ..\n",
      "41183    0\n",
      "41184    0\n",
      "41185    0\n",
      "41186    0\n",
      "41187    0\n",
      "Name: default, Length: 41188, dtype: int64\n",
      "0        0\n",
      "1        0\n",
      "2        1\n",
      "3        0\n",
      "4        0\n",
      "        ..\n",
      "41183    1\n",
      "41184    0\n",
      "41185    1\n",
      "41186    0\n",
      "41187    1\n",
      "Name: housing, Length: 41188, dtype: int64\n",
      "0        0\n",
      "1        0\n",
      "2        0\n",
      "3        0\n",
      "4        1\n",
      "        ..\n",
      "41183    0\n",
      "41184    0\n",
      "41185    0\n",
      "41186    0\n",
      "41187    0\n",
      "Name: loan, Length: 41188, dtype: int64\n",
      "0        99\n",
      "1        99\n",
      "2        99\n",
      "3        99\n",
      "4        99\n",
      "         ..\n",
      "41183    11\n",
      "41184    11\n",
      "41185    11\n",
      "41186    11\n",
      "41187    11\n",
      "Name: contact, Length: 41188, dtype: int64\n",
      "0         5\n",
      "1         5\n",
      "2         5\n",
      "3         5\n",
      "4         5\n",
      "         ..\n",
      "41183    11\n",
      "41184    11\n",
      "41185    11\n",
      "41186    11\n",
      "41187    11\n",
      "Name: month, Length: 41188, dtype: int64\n",
      "0        1\n",
      "1        1\n",
      "2        1\n",
      "3        1\n",
      "4        1\n",
      "        ..\n",
      "41183    5\n",
      "41184    5\n",
      "41185    5\n",
      "41186    5\n",
      "41187    5\n",
      "Name: day_of_week, Length: 41188, dtype: int64\n",
      "0        1\n",
      "1        1\n",
      "2        1\n",
      "3        1\n",
      "4        1\n",
      "        ..\n",
      "41183    1\n",
      "41184    1\n",
      "41185    1\n",
      "41186    1\n",
      "41187    0\n",
      "Name: poutcome, Length: 41188, dtype: int64\n"
     ]
    }
   ],
   "source": [
    "label_encoding()"
   ]
  },
  {
   "cell_type": "markdown",
   "id": "5538f1c2",
   "metadata": {},
   "source": [
    "Relationship between features"
   ]
  },
  {
   "cell_type": "code",
   "execution_count": 25,
   "id": "23d683b2",
   "metadata": {},
   "outputs": [
    {
     "data": {
      "text/html": [
       "<div>\n",
       "<style scoped>\n",
       "    .dataframe tbody tr th:only-of-type {\n",
       "        vertical-align: middle;\n",
       "    }\n",
       "\n",
       "    .dataframe tbody tr th {\n",
       "        vertical-align: top;\n",
       "    }\n",
       "\n",
       "    .dataframe thead th {\n",
       "        text-align: right;\n",
       "    }\n",
       "</style>\n",
       "<table border=\"1\" class=\"dataframe\">\n",
       "  <thead>\n",
       "    <tr style=\"text-align: right;\">\n",
       "      <th></th>\n",
       "      <th>age</th>\n",
       "      <th>job</th>\n",
       "      <th>marital</th>\n",
       "      <th>education</th>\n",
       "      <th>default</th>\n",
       "      <th>housing</th>\n",
       "      <th>loan</th>\n",
       "      <th>contact</th>\n",
       "      <th>month</th>\n",
       "      <th>day_of_week</th>\n",
       "      <th>...</th>\n",
       "      <th>campaign</th>\n",
       "      <th>pdays</th>\n",
       "      <th>previous</th>\n",
       "      <th>poutcome</th>\n",
       "      <th>emp.var.rate</th>\n",
       "      <th>cons.price.idx</th>\n",
       "      <th>cons.conf.idx</th>\n",
       "      <th>euribor3m</th>\n",
       "      <th>nr.employed</th>\n",
       "      <th>y</th>\n",
       "    </tr>\n",
       "  </thead>\n",
       "  <tbody>\n",
       "    <tr>\n",
       "      <th>age</th>\n",
       "      <td>1.000000</td>\n",
       "      <td>0.024042</td>\n",
       "      <td>-0.114983</td>\n",
       "      <td>-0.129404</td>\n",
       "      <td>0.165019</td>\n",
       "      <td>-0.001923</td>\n",
       "      <td>-0.006397</td>\n",
       "      <td>0.007021</td>\n",
       "      <td>0.077265</td>\n",
       "      <td>-0.018486</td>\n",
       "      <td>...</td>\n",
       "      <td>0.004594</td>\n",
       "      <td>-0.034369</td>\n",
       "      <td>0.024365</td>\n",
       "      <td>0.019750</td>\n",
       "      <td>-0.000371</td>\n",
       "      <td>0.000857</td>\n",
       "      <td>0.129372</td>\n",
       "      <td>0.010767</td>\n",
       "      <td>-0.017725</td>\n",
       "      <td>0.030399</td>\n",
       "    </tr>\n",
       "    <tr>\n",
       "      <th>job</th>\n",
       "      <td>0.024042</td>\n",
       "      <td>1.000000</td>\n",
       "      <td>-0.005790</td>\n",
       "      <td>0.150877</td>\n",
       "      <td>-0.033276</td>\n",
       "      <td>0.006794</td>\n",
       "      <td>-0.005560</td>\n",
       "      <td>-0.026371</td>\n",
       "      <td>0.062013</td>\n",
       "      <td>0.004164</td>\n",
       "      <td>...</td>\n",
       "      <td>-0.017591</td>\n",
       "      <td>-0.046394</td>\n",
       "      <td>0.050780</td>\n",
       "      <td>0.000524</td>\n",
       "      <td>-0.087012</td>\n",
       "      <td>-0.054880</td>\n",
       "      <td>0.013656</td>\n",
       "      <td>-0.076483</td>\n",
       "      <td>-0.085450</td>\n",
       "      <td>0.054175</td>\n",
       "    </tr>\n",
       "    <tr>\n",
       "      <th>marital</th>\n",
       "      <td>-0.114983</td>\n",
       "      <td>-0.005790</td>\n",
       "      <td>1.000000</td>\n",
       "      <td>0.054594</td>\n",
       "      <td>-0.103804</td>\n",
       "      <td>0.007436</td>\n",
       "      <td>0.001719</td>\n",
       "      <td>-0.043564</td>\n",
       "      <td>-0.003521</td>\n",
       "      <td>-0.004210</td>\n",
       "      <td>...</td>\n",
       "      <td>0.002269</td>\n",
       "      <td>-0.017635</td>\n",
       "      <td>0.030222</td>\n",
       "      <td>-0.013144</td>\n",
       "      <td>-0.048931</td>\n",
       "      <td>-0.024995</td>\n",
       "      <td>-0.051013</td>\n",
       "      <td>-0.054623</td>\n",
       "      <td>-0.050058</td>\n",
       "      <td>0.026302</td>\n",
       "    </tr>\n",
       "    <tr>\n",
       "      <th>education</th>\n",
       "      <td>-0.129404</td>\n",
       "      <td>0.150877</td>\n",
       "      <td>0.054594</td>\n",
       "      <td>1.000000</td>\n",
       "      <td>-0.162584</td>\n",
       "      <td>0.017151</td>\n",
       "      <td>0.004575</td>\n",
       "      <td>-0.095334</td>\n",
       "      <td>0.108020</td>\n",
       "      <td>0.002747</td>\n",
       "      <td>...</td>\n",
       "      <td>-0.002793</td>\n",
       "      <td>-0.016707</td>\n",
       "      <td>0.005684</td>\n",
       "      <td>0.013558</td>\n",
       "      <td>-0.024899</td>\n",
       "      <td>-0.086017</td>\n",
       "      <td>0.045685</td>\n",
       "      <td>-0.015525</td>\n",
       "      <td>-0.007188</td>\n",
       "      <td>0.026145</td>\n",
       "    </tr>\n",
       "    <tr>\n",
       "      <th>default</th>\n",
       "      <td>0.165019</td>\n",
       "      <td>-0.033276</td>\n",
       "      <td>-0.103804</td>\n",
       "      <td>-0.162584</td>\n",
       "      <td>1.000000</td>\n",
       "      <td>-0.010940</td>\n",
       "      <td>0.001088</td>\n",
       "      <td>0.135535</td>\n",
       "      <td>-0.084695</td>\n",
       "      <td>-0.004103</td>\n",
       "      <td>...</td>\n",
       "      <td>0.032967</td>\n",
       "      <td>0.080064</td>\n",
       "      <td>-0.102574</td>\n",
       "      <td>0.023629</td>\n",
       "      <td>0.203263</td>\n",
       "      <td>0.168288</td>\n",
       "      <td>0.026399</td>\n",
       "      <td>0.195305</td>\n",
       "      <td>0.189789</td>\n",
       "      <td>-0.099324</td>\n",
       "    </tr>\n",
       "    <tr>\n",
       "      <th>housing</th>\n",
       "      <td>-0.001923</td>\n",
       "      <td>0.006794</td>\n",
       "      <td>0.007436</td>\n",
       "      <td>0.017151</td>\n",
       "      <td>-0.010940</td>\n",
       "      <td>1.000000</td>\n",
       "      <td>0.289759</td>\n",
       "      <td>-0.065393</td>\n",
       "      <td>0.023968</td>\n",
       "      <td>-0.007088</td>\n",
       "      <td>...</td>\n",
       "      <td>-0.010190</td>\n",
       "      <td>-0.008741</td>\n",
       "      <td>0.021002</td>\n",
       "      <td>-0.013285</td>\n",
       "      <td>-0.053458</td>\n",
       "      <td>-0.066337</td>\n",
       "      <td>-0.027737</td>\n",
       "      <td>-0.052739</td>\n",
       "      <td>-0.042281</td>\n",
       "      <td>0.009552</td>\n",
       "    </tr>\n",
       "    <tr>\n",
       "      <th>loan</th>\n",
       "      <td>-0.006397</td>\n",
       "      <td>-0.005560</td>\n",
       "      <td>0.001719</td>\n",
       "      <td>0.004575</td>\n",
       "      <td>0.001088</td>\n",
       "      <td>0.289759</td>\n",
       "      <td>1.000000</td>\n",
       "      <td>0.004391</td>\n",
       "      <td>-0.009307</td>\n",
       "      <td>0.003206</td>\n",
       "      <td>...</td>\n",
       "      <td>0.003899</td>\n",
       "      <td>0.001298</td>\n",
       "      <td>0.000846</td>\n",
       "      <td>-0.004236</td>\n",
       "      <td>0.003055</td>\n",
       "      <td>0.006315</td>\n",
       "      <td>-0.005895</td>\n",
       "      <td>0.001547</td>\n",
       "      <td>0.002464</td>\n",
       "      <td>-0.005038</td>\n",
       "    </tr>\n",
       "    <tr>\n",
       "      <th>contact</th>\n",
       "      <td>0.007021</td>\n",
       "      <td>-0.026371</td>\n",
       "      <td>-0.043564</td>\n",
       "      <td>-0.095334</td>\n",
       "      <td>0.135535</td>\n",
       "      <td>-0.065393</td>\n",
       "      <td>0.004391</td>\n",
       "      <td>1.000000</td>\n",
       "      <td>-0.324315</td>\n",
       "      <td>0.019583</td>\n",
       "      <td>...</td>\n",
       "      <td>0.077368</td>\n",
       "      <td>0.117970</td>\n",
       "      <td>-0.212848</td>\n",
       "      <td>0.118744</td>\n",
       "      <td>0.393584</td>\n",
       "      <td>0.591474</td>\n",
       "      <td>0.251614</td>\n",
       "      <td>0.399773</td>\n",
       "      <td>0.269155</td>\n",
       "      <td>-0.144773</td>\n",
       "    </tr>\n",
       "    <tr>\n",
       "      <th>month</th>\n",
       "      <td>0.077265</td>\n",
       "      <td>0.062013</td>\n",
       "      <td>-0.003521</td>\n",
       "      <td>0.108020</td>\n",
       "      <td>-0.084695</td>\n",
       "      <td>0.023968</td>\n",
       "      <td>-0.009307</td>\n",
       "      <td>-0.324315</td>\n",
       "      <td>1.000000</td>\n",
       "      <td>-0.006959</td>\n",
       "      <td>...</td>\n",
       "      <td>-0.030635</td>\n",
       "      <td>-0.079556</td>\n",
       "      <td>0.063754</td>\n",
       "      <td>0.028950</td>\n",
       "      <td>0.058874</td>\n",
       "      <td>-0.150350</td>\n",
       "      <td>0.264227</td>\n",
       "      <td>0.163411</td>\n",
       "      <td>0.132697</td>\n",
       "      <td>0.037187</td>\n",
       "    </tr>\n",
       "    <tr>\n",
       "      <th>day_of_week</th>\n",
       "      <td>-0.018486</td>\n",
       "      <td>0.004164</td>\n",
       "      <td>-0.004210</td>\n",
       "      <td>0.002747</td>\n",
       "      <td>-0.004103</td>\n",
       "      <td>-0.007088</td>\n",
       "      <td>0.003206</td>\n",
       "      <td>0.019583</td>\n",
       "      <td>-0.006959</td>\n",
       "      <td>1.000000</td>\n",
       "      <td>...</td>\n",
       "      <td>0.015098</td>\n",
       "      <td>0.006765</td>\n",
       "      <td>0.004013</td>\n",
       "      <td>-0.012788</td>\n",
       "      <td>-0.004401</td>\n",
       "      <td>-0.004586</td>\n",
       "      <td>-0.000099</td>\n",
       "      <td>-0.005552</td>\n",
       "      <td>-0.000734</td>\n",
       "      <td>0.010051</td>\n",
       "    </tr>\n",
       "    <tr>\n",
       "      <th>duration</th>\n",
       "      <td>-0.000866</td>\n",
       "      <td>0.011561</td>\n",
       "      <td>0.001220</td>\n",
       "      <td>-0.015665</td>\n",
       "      <td>-0.011642</td>\n",
       "      <td>-0.009050</td>\n",
       "      <td>-0.003194</td>\n",
       "      <td>-0.026657</td>\n",
       "      <td>-0.019302</td>\n",
       "      <td>0.010549</td>\n",
       "      <td>...</td>\n",
       "      <td>-0.071699</td>\n",
       "      <td>-0.047577</td>\n",
       "      <td>0.020640</td>\n",
       "      <td>0.033360</td>\n",
       "      <td>-0.027968</td>\n",
       "      <td>0.005312</td>\n",
       "      <td>-0.008173</td>\n",
       "      <td>-0.032897</td>\n",
       "      <td>-0.044703</td>\n",
       "      <td>0.405274</td>\n",
       "    </tr>\n",
       "    <tr>\n",
       "      <th>campaign</th>\n",
       "      <td>0.004594</td>\n",
       "      <td>-0.017591</td>\n",
       "      <td>0.002269</td>\n",
       "      <td>-0.002793</td>\n",
       "      <td>0.032967</td>\n",
       "      <td>-0.010190</td>\n",
       "      <td>0.003899</td>\n",
       "      <td>0.077368</td>\n",
       "      <td>-0.030635</td>\n",
       "      <td>0.015098</td>\n",
       "      <td>...</td>\n",
       "      <td>1.000000</td>\n",
       "      <td>0.052584</td>\n",
       "      <td>-0.079141</td>\n",
       "      <td>0.032586</td>\n",
       "      <td>0.150754</td>\n",
       "      <td>0.127836</td>\n",
       "      <td>-0.013733</td>\n",
       "      <td>0.135133</td>\n",
       "      <td>0.144095</td>\n",
       "      <td>-0.066357</td>\n",
       "    </tr>\n",
       "    <tr>\n",
       "      <th>pdays</th>\n",
       "      <td>-0.034369</td>\n",
       "      <td>-0.046394</td>\n",
       "      <td>-0.017635</td>\n",
       "      <td>-0.016707</td>\n",
       "      <td>0.080064</td>\n",
       "      <td>-0.008741</td>\n",
       "      <td>0.001298</td>\n",
       "      <td>0.117970</td>\n",
       "      <td>-0.079556</td>\n",
       "      <td>0.006765</td>\n",
       "      <td>...</td>\n",
       "      <td>0.052584</td>\n",
       "      <td>1.000000</td>\n",
       "      <td>-0.587514</td>\n",
       "      <td>-0.475619</td>\n",
       "      <td>0.271004</td>\n",
       "      <td>0.078889</td>\n",
       "      <td>-0.091342</td>\n",
       "      <td>0.296899</td>\n",
       "      <td>0.372605</td>\n",
       "      <td>-0.324914</td>\n",
       "    </tr>\n",
       "    <tr>\n",
       "      <th>previous</th>\n",
       "      <td>0.024365</td>\n",
       "      <td>0.050780</td>\n",
       "      <td>0.030222</td>\n",
       "      <td>0.005684</td>\n",
       "      <td>-0.102574</td>\n",
       "      <td>0.021002</td>\n",
       "      <td>0.000846</td>\n",
       "      <td>-0.212848</td>\n",
       "      <td>0.063754</td>\n",
       "      <td>0.004013</td>\n",
       "      <td>...</td>\n",
       "      <td>-0.079141</td>\n",
       "      <td>-0.587514</td>\n",
       "      <td>1.000000</td>\n",
       "      <td>-0.313110</td>\n",
       "      <td>-0.420489</td>\n",
       "      <td>-0.203130</td>\n",
       "      <td>-0.050936</td>\n",
       "      <td>-0.454494</td>\n",
       "      <td>-0.501333</td>\n",
       "      <td>0.230181</td>\n",
       "    </tr>\n",
       "    <tr>\n",
       "      <th>poutcome</th>\n",
       "      <td>0.019750</td>\n",
       "      <td>0.000524</td>\n",
       "      <td>-0.013144</td>\n",
       "      <td>0.013558</td>\n",
       "      <td>0.023629</td>\n",
       "      <td>-0.013285</td>\n",
       "      <td>-0.004236</td>\n",
       "      <td>0.118744</td>\n",
       "      <td>0.028950</td>\n",
       "      <td>-0.012788</td>\n",
       "      <td>...</td>\n",
       "      <td>0.032586</td>\n",
       "      <td>-0.475619</td>\n",
       "      <td>-0.313110</td>\n",
       "      <td>1.000000</td>\n",
       "      <td>0.192972</td>\n",
       "      <td>0.211330</td>\n",
       "      <td>0.178289</td>\n",
       "      <td>0.184144</td>\n",
       "      <td>0.119689</td>\n",
       "      <td>0.129789</td>\n",
       "    </tr>\n",
       "    <tr>\n",
       "      <th>emp.var.rate</th>\n",
       "      <td>-0.000371</td>\n",
       "      <td>-0.087012</td>\n",
       "      <td>-0.048931</td>\n",
       "      <td>-0.024899</td>\n",
       "      <td>0.203263</td>\n",
       "      <td>-0.053458</td>\n",
       "      <td>0.003055</td>\n",
       "      <td>0.393584</td>\n",
       "      <td>0.058874</td>\n",
       "      <td>-0.004401</td>\n",
       "      <td>...</td>\n",
       "      <td>0.150754</td>\n",
       "      <td>0.271004</td>\n",
       "      <td>-0.420489</td>\n",
       "      <td>0.192972</td>\n",
       "      <td>1.000000</td>\n",
       "      <td>0.775334</td>\n",
       "      <td>0.196041</td>\n",
       "      <td>0.972245</td>\n",
       "      <td>0.906970</td>\n",
       "      <td>-0.298334</td>\n",
       "    </tr>\n",
       "    <tr>\n",
       "      <th>cons.price.idx</th>\n",
       "      <td>0.000857</td>\n",
       "      <td>-0.054880</td>\n",
       "      <td>-0.024995</td>\n",
       "      <td>-0.086017</td>\n",
       "      <td>0.168288</td>\n",
       "      <td>-0.066337</td>\n",
       "      <td>0.006315</td>\n",
       "      <td>0.591474</td>\n",
       "      <td>-0.150350</td>\n",
       "      <td>-0.004586</td>\n",
       "      <td>...</td>\n",
       "      <td>0.127836</td>\n",
       "      <td>0.078889</td>\n",
       "      <td>-0.203130</td>\n",
       "      <td>0.211330</td>\n",
       "      <td>0.775334</td>\n",
       "      <td>1.000000</td>\n",
       "      <td>0.058986</td>\n",
       "      <td>0.688230</td>\n",
       "      <td>0.522034</td>\n",
       "      <td>-0.136211</td>\n",
       "    </tr>\n",
       "    <tr>\n",
       "      <th>cons.conf.idx</th>\n",
       "      <td>0.129372</td>\n",
       "      <td>0.013656</td>\n",
       "      <td>-0.051013</td>\n",
       "      <td>0.045685</td>\n",
       "      <td>0.026399</td>\n",
       "      <td>-0.027737</td>\n",
       "      <td>-0.005895</td>\n",
       "      <td>0.251614</td>\n",
       "      <td>0.264227</td>\n",
       "      <td>-0.000099</td>\n",
       "      <td>...</td>\n",
       "      <td>-0.013733</td>\n",
       "      <td>-0.091342</td>\n",
       "      <td>-0.050936</td>\n",
       "      <td>0.178289</td>\n",
       "      <td>0.196041</td>\n",
       "      <td>0.058986</td>\n",
       "      <td>1.000000</td>\n",
       "      <td>0.277686</td>\n",
       "      <td>0.100513</td>\n",
       "      <td>0.054878</td>\n",
       "    </tr>\n",
       "    <tr>\n",
       "      <th>euribor3m</th>\n",
       "      <td>0.010767</td>\n",
       "      <td>-0.076483</td>\n",
       "      <td>-0.054623</td>\n",
       "      <td>-0.015525</td>\n",
       "      <td>0.195305</td>\n",
       "      <td>-0.052739</td>\n",
       "      <td>0.001547</td>\n",
       "      <td>0.399773</td>\n",
       "      <td>0.163411</td>\n",
       "      <td>-0.005552</td>\n",
       "      <td>...</td>\n",
       "      <td>0.135133</td>\n",
       "      <td>0.296899</td>\n",
       "      <td>-0.454494</td>\n",
       "      <td>0.184144</td>\n",
       "      <td>0.972245</td>\n",
       "      <td>0.688230</td>\n",
       "      <td>0.277686</td>\n",
       "      <td>1.000000</td>\n",
       "      <td>0.945154</td>\n",
       "      <td>-0.307771</td>\n",
       "    </tr>\n",
       "    <tr>\n",
       "      <th>nr.employed</th>\n",
       "      <td>-0.017725</td>\n",
       "      <td>-0.085450</td>\n",
       "      <td>-0.050058</td>\n",
       "      <td>-0.007188</td>\n",
       "      <td>0.189789</td>\n",
       "      <td>-0.042281</td>\n",
       "      <td>0.002464</td>\n",
       "      <td>0.269155</td>\n",
       "      <td>0.132697</td>\n",
       "      <td>-0.000734</td>\n",
       "      <td>...</td>\n",
       "      <td>0.144095</td>\n",
       "      <td>0.372605</td>\n",
       "      <td>-0.501333</td>\n",
       "      <td>0.119689</td>\n",
       "      <td>0.906970</td>\n",
       "      <td>0.522034</td>\n",
       "      <td>0.100513</td>\n",
       "      <td>0.945154</td>\n",
       "      <td>1.000000</td>\n",
       "      <td>-0.354678</td>\n",
       "    </tr>\n",
       "    <tr>\n",
       "      <th>y</th>\n",
       "      <td>0.030399</td>\n",
       "      <td>0.054175</td>\n",
       "      <td>0.026302</td>\n",
       "      <td>0.026145</td>\n",
       "      <td>-0.099324</td>\n",
       "      <td>0.009552</td>\n",
       "      <td>-0.005038</td>\n",
       "      <td>-0.144773</td>\n",
       "      <td>0.037187</td>\n",
       "      <td>0.010051</td>\n",
       "      <td>...</td>\n",
       "      <td>-0.066357</td>\n",
       "      <td>-0.324914</td>\n",
       "      <td>0.230181</td>\n",
       "      <td>0.129789</td>\n",
       "      <td>-0.298334</td>\n",
       "      <td>-0.136211</td>\n",
       "      <td>0.054878</td>\n",
       "      <td>-0.307771</td>\n",
       "      <td>-0.354678</td>\n",
       "      <td>1.000000</td>\n",
       "    </tr>\n",
       "  </tbody>\n",
       "</table>\n",
       "<p>21 rows × 21 columns</p>\n",
       "</div>"
      ],
      "text/plain": [
       "                     age       job   marital  education   default   housing  \\\n",
       "age             1.000000  0.024042 -0.114983  -0.129404  0.165019 -0.001923   \n",
       "job             0.024042  1.000000 -0.005790   0.150877 -0.033276  0.006794   \n",
       "marital        -0.114983 -0.005790  1.000000   0.054594 -0.103804  0.007436   \n",
       "education      -0.129404  0.150877  0.054594   1.000000 -0.162584  0.017151   \n",
       "default         0.165019 -0.033276 -0.103804  -0.162584  1.000000 -0.010940   \n",
       "housing        -0.001923  0.006794  0.007436   0.017151 -0.010940  1.000000   \n",
       "loan           -0.006397 -0.005560  0.001719   0.004575  0.001088  0.289759   \n",
       "contact         0.007021 -0.026371 -0.043564  -0.095334  0.135535 -0.065393   \n",
       "month           0.077265  0.062013 -0.003521   0.108020 -0.084695  0.023968   \n",
       "day_of_week    -0.018486  0.004164 -0.004210   0.002747 -0.004103 -0.007088   \n",
       "duration       -0.000866  0.011561  0.001220  -0.015665 -0.011642 -0.009050   \n",
       "campaign        0.004594 -0.017591  0.002269  -0.002793  0.032967 -0.010190   \n",
       "pdays          -0.034369 -0.046394 -0.017635  -0.016707  0.080064 -0.008741   \n",
       "previous        0.024365  0.050780  0.030222   0.005684 -0.102574  0.021002   \n",
       "poutcome        0.019750  0.000524 -0.013144   0.013558  0.023629 -0.013285   \n",
       "emp.var.rate   -0.000371 -0.087012 -0.048931  -0.024899  0.203263 -0.053458   \n",
       "cons.price.idx  0.000857 -0.054880 -0.024995  -0.086017  0.168288 -0.066337   \n",
       "cons.conf.idx   0.129372  0.013656 -0.051013   0.045685  0.026399 -0.027737   \n",
       "euribor3m       0.010767 -0.076483 -0.054623  -0.015525  0.195305 -0.052739   \n",
       "nr.employed    -0.017725 -0.085450 -0.050058  -0.007188  0.189789 -0.042281   \n",
       "y               0.030399  0.054175  0.026302   0.026145 -0.099324  0.009552   \n",
       "\n",
       "                    loan   contact     month  day_of_week  ...  campaign  \\\n",
       "age            -0.006397  0.007021  0.077265    -0.018486  ...  0.004594   \n",
       "job            -0.005560 -0.026371  0.062013     0.004164  ... -0.017591   \n",
       "marital         0.001719 -0.043564 -0.003521    -0.004210  ...  0.002269   \n",
       "education       0.004575 -0.095334  0.108020     0.002747  ... -0.002793   \n",
       "default         0.001088  0.135535 -0.084695    -0.004103  ...  0.032967   \n",
       "housing         0.289759 -0.065393  0.023968    -0.007088  ... -0.010190   \n",
       "loan            1.000000  0.004391 -0.009307     0.003206  ...  0.003899   \n",
       "contact         0.004391  1.000000 -0.324315     0.019583  ...  0.077368   \n",
       "month          -0.009307 -0.324315  1.000000    -0.006959  ... -0.030635   \n",
       "day_of_week     0.003206  0.019583 -0.006959     1.000000  ...  0.015098   \n",
       "duration       -0.003194 -0.026657 -0.019302     0.010549  ... -0.071699   \n",
       "campaign        0.003899  0.077368 -0.030635     0.015098  ...  1.000000   \n",
       "pdays           0.001298  0.117970 -0.079556     0.006765  ...  0.052584   \n",
       "previous        0.000846 -0.212848  0.063754     0.004013  ... -0.079141   \n",
       "poutcome       -0.004236  0.118744  0.028950    -0.012788  ...  0.032586   \n",
       "emp.var.rate    0.003055  0.393584  0.058874    -0.004401  ...  0.150754   \n",
       "cons.price.idx  0.006315  0.591474 -0.150350    -0.004586  ...  0.127836   \n",
       "cons.conf.idx  -0.005895  0.251614  0.264227    -0.000099  ... -0.013733   \n",
       "euribor3m       0.001547  0.399773  0.163411    -0.005552  ...  0.135133   \n",
       "nr.employed     0.002464  0.269155  0.132697    -0.000734  ...  0.144095   \n",
       "y              -0.005038 -0.144773  0.037187     0.010051  ... -0.066357   \n",
       "\n",
       "                   pdays  previous  poutcome  emp.var.rate  cons.price.idx  \\\n",
       "age            -0.034369  0.024365  0.019750     -0.000371        0.000857   \n",
       "job            -0.046394  0.050780  0.000524     -0.087012       -0.054880   \n",
       "marital        -0.017635  0.030222 -0.013144     -0.048931       -0.024995   \n",
       "education      -0.016707  0.005684  0.013558     -0.024899       -0.086017   \n",
       "default         0.080064 -0.102574  0.023629      0.203263        0.168288   \n",
       "housing        -0.008741  0.021002 -0.013285     -0.053458       -0.066337   \n",
       "loan            0.001298  0.000846 -0.004236      0.003055        0.006315   \n",
       "contact         0.117970 -0.212848  0.118744      0.393584        0.591474   \n",
       "month          -0.079556  0.063754  0.028950      0.058874       -0.150350   \n",
       "day_of_week     0.006765  0.004013 -0.012788     -0.004401       -0.004586   \n",
       "duration       -0.047577  0.020640  0.033360     -0.027968        0.005312   \n",
       "campaign        0.052584 -0.079141  0.032586      0.150754        0.127836   \n",
       "pdays           1.000000 -0.587514 -0.475619      0.271004        0.078889   \n",
       "previous       -0.587514  1.000000 -0.313110     -0.420489       -0.203130   \n",
       "poutcome       -0.475619 -0.313110  1.000000      0.192972        0.211330   \n",
       "emp.var.rate    0.271004 -0.420489  0.192972      1.000000        0.775334   \n",
       "cons.price.idx  0.078889 -0.203130  0.211330      0.775334        1.000000   \n",
       "cons.conf.idx  -0.091342 -0.050936  0.178289      0.196041        0.058986   \n",
       "euribor3m       0.296899 -0.454494  0.184144      0.972245        0.688230   \n",
       "nr.employed     0.372605 -0.501333  0.119689      0.906970        0.522034   \n",
       "y              -0.324914  0.230181  0.129789     -0.298334       -0.136211   \n",
       "\n",
       "                cons.conf.idx  euribor3m  nr.employed         y  \n",
       "age                  0.129372   0.010767    -0.017725  0.030399  \n",
       "job                  0.013656  -0.076483    -0.085450  0.054175  \n",
       "marital             -0.051013  -0.054623    -0.050058  0.026302  \n",
       "education            0.045685  -0.015525    -0.007188  0.026145  \n",
       "default              0.026399   0.195305     0.189789 -0.099324  \n",
       "housing             -0.027737  -0.052739    -0.042281  0.009552  \n",
       "loan                -0.005895   0.001547     0.002464 -0.005038  \n",
       "contact              0.251614   0.399773     0.269155 -0.144773  \n",
       "month                0.264227   0.163411     0.132697  0.037187  \n",
       "day_of_week         -0.000099  -0.005552    -0.000734  0.010051  \n",
       "duration            -0.008173  -0.032897    -0.044703  0.405274  \n",
       "campaign            -0.013733   0.135133     0.144095 -0.066357  \n",
       "pdays               -0.091342   0.296899     0.372605 -0.324914  \n",
       "previous            -0.050936  -0.454494    -0.501333  0.230181  \n",
       "poutcome             0.178289   0.184144     0.119689  0.129789  \n",
       "emp.var.rate         0.196041   0.972245     0.906970 -0.298334  \n",
       "cons.price.idx       0.058986   0.688230     0.522034 -0.136211  \n",
       "cons.conf.idx        1.000000   0.277686     0.100513  0.054878  \n",
       "euribor3m            0.277686   1.000000     0.945154 -0.307771  \n",
       "nr.employed          0.100513   0.945154     1.000000 -0.354678  \n",
       "y                    0.054878  -0.307771    -0.354678  1.000000  \n",
       "\n",
       "[21 rows x 21 columns]"
      ]
     },
     "execution_count": 25,
     "metadata": {},
     "output_type": "execute_result"
    }
   ],
   "source": [
    "corr = data.corr()  #the relationship between the features can be viewd by this\n",
    "corr"
   ]
  },
  {
   "cell_type": "code",
   "execution_count": 26,
   "id": "f3996ef6",
   "metadata": {},
   "outputs": [
    {
     "data": {
      "image/png": "[encoded data removed]",
      "text/plain": [
       "<Figure size 1080x1080 with 2 Axes>"
      ]
     },
     "metadata": {
      "needs_background": "light"
     },
     "output_type": "display_data"
    }
   ],
   "source": [
    "fig = plt.figure(figsize=[15, 15]) #the figure size (height and width)\n",
    "sns.heatmap(corr, annot=False) #annot represents write the datavalue in each cell\n",
    "\n",
    "plt.show()  #the top bar represents the positive correlation and the lower are negative\n",
    "\n",
    "#euribor3m and emp.var.rate are highly positive correlated.\n",
    "#nr.employed and euribor3m are highly positive correlated.\n",
    "#nr.employed and emp.var.rate are highly positive correlated.\n",
    "#other than these everything has negative and neutral correlation\n"
   ]
  },
  {
   "cell_type": "markdown",
   "id": "1ba2757c",
   "metadata": {},
   "source": [
    "checking the relationship between the positive correlated features"
   ]
  },
  {
   "cell_type": "code",
   "execution_count": 27,
   "id": "2118c584",
   "metadata": {},
   "outputs": [
    {
     "data": {
      "text/plain": [
       "<AxesSubplot:xlabel='nr.employed', ylabel='euribor3m'>"
      ]
     },
     "execution_count": 27,
     "metadata": {},
     "output_type": "execute_result"
    },
    {
     "data": {
      "image/png": "[encoded data removed]",
      "text/plain": [
       "<Figure size 432x288 with 1 Axes>"
      ]
     },
     "metadata": {
      "needs_background": "light"
     },
     "output_type": "display_data"
    }
   ],
   "source": [
    "sns.histplot(data=data, x = \"nr.employed\", y=\"euribor3m\") #the graph is curve so logistic regression"
   ]
  },
  {
   "cell_type": "code",
   "execution_count": 28,
   "id": "52e9fa28",
   "metadata": {},
   "outputs": [
    {
     "data": {
      "text/plain": [
       "<AxesSubplot:xlabel='nr.employed', ylabel='emp.var.rate'>"
      ]
     },
     "execution_count": 28,
     "metadata": {},
     "output_type": "execute_result"
    },
    {
     "data": {
      "image/png": "[encoded data removed]",
      "text/plain": [
       "<Figure size 432x288 with 1 Axes>"
      ]
     },
     "metadata": {
      "needs_background": "light"
     },
     "output_type": "display_data"
    }
   ],
   "source": [
    "sns.histplot(data=data, x = \"nr.employed\", y=\"emp.var.rate\")"
   ]
  },
  {
   "cell_type": "code",
   "execution_count": 29,
   "id": "bccda93b",
   "metadata": {},
   "outputs": [
    {
     "data": {
      "text/plain": [
       "<AxesSubplot:xlabel='euribor3m', ylabel='emp.var.rate'>"
      ]
     },
     "execution_count": 29,
     "metadata": {},
     "output_type": "execute_result"
    },
    {
     "data": {
      "image/png": "[encoded data removed]",
      "text/plain": [
       "<Figure size 432x288 with 1 Axes>"
      ]
     },
     "metadata": {
      "needs_background": "light"
     },
     "output_type": "display_data"
    }
   ],
   "source": [
    "sns.histplot(data=data, x = \"euribor3m\", y=\"emp.var.rate\")"
   ]
  },
  {
   "cell_type": "code",
   "execution_count": 30,
   "id": "a2a78fba",
   "metadata": {},
   "outputs": [
    {
     "data": {
      "text/plain": [
       "<AxesSubplot:xlabel='duration', ylabel='y'>"
      ]
     },
     "execution_count": 30,
     "metadata": {},
     "output_type": "execute_result"
    },
    {
     "data": {
      "image/png": "[encoded data removed]",
      "text/plain": [
       "<Figure size 432x288 with 1 Axes>"
      ]
     },
     "metadata": {
      "needs_background": "light"
     },
     "output_type": "display_data"
    }
   ],
   "source": [
    "sns.histplot(data=data, x = \"duration\", y=\"y\") "
   ]
  },
  {
   "cell_type": "code",
   "execution_count": 31,
   "id": "5e116c7e",
   "metadata": {},
   "outputs": [
    {
     "data": {
      "image/png": "[encoded data removed]",
      "text/plain": [
       "<Figure size 432x288 with 1 Axes>"
      ]
     },
     "metadata": {
      "needs_background": "light"
     },
     "output_type": "display_data"
    }
   ],
   "source": [
    "plt.scatter(data=data,x = \"duration\", y=\"y\")\n",
    "plt.legend()\n",
    "plt.show()"
   ]
  },
  {
   "cell_type": "code",
   "execution_count": 32,
   "id": "4c9cc3c3",
   "metadata": {},
   "outputs": [
    {
     "data": {
      "image/png": "[encoded data removed]",
      "text/plain": [
       "<Figure size 432x288 with 1 Axes>"
      ]
     },
     "metadata": {
      "needs_background": "light"
     },
     "output_type": "display_data"
    }
   ],
   "source": [
    "plt.scatter(data=data,x = \"nr.employed\", y=\"euribor3m\")\n",
    "plt.show()"
   ]
  },
  {
   "cell_type": "code",
   "execution_count": 33,
   "id": "b35dd6d1",
   "metadata": {},
   "outputs": [
    {
     "data": {
      "image/png": "[encoded data removed]",
      "text/plain": [
       "<Figure size 432x288 with 1 Axes>"
      ]
     },
     "metadata": {
      "needs_background": "light"
     },
     "output_type": "display_data"
    }
   ],
   "source": [
    "plt.scatter(data=data, x='duration', y='y') #i used duration because it highly affect the accuracy\n",
    "plt.show()"
   ]
  },
  {
   "cell_type": "code",
   "execution_count": 34,
   "id": "8d8413b3",
   "metadata": {},
   "outputs": [],
   "source": [
    "x=data.iloc[:,:-1].values   #all the columns except the last column for x\n",
    "y=data.iloc[:,-1].values    #only the last column for the y"
   ]
  },
  {
   "cell_type": "code",
   "execution_count": 35,
   "id": "298dd57b",
   "metadata": {},
   "outputs": [],
   "source": [
    "from sklearn.model_selection import train_test_split    #25 for train and remaining for test\n",
    "x_train, x_test, y_train, y_test = train_test_split (x, y, test_size=0.25, random_state=0) #random state - ensures that the splits that we generate are reproducible"
   ]
  },
  {
   "cell_type": "code",
   "execution_count": 36,
   "id": "cc613d5e",
   "metadata": {},
   "outputs": [
    {
     "data": {
      "text/plain": [
       "(30891, 20)"
      ]
     },
     "execution_count": 36,
     "metadata": {},
     "output_type": "execute_result"
    }
   ],
   "source": [
    "x_train.shape               #checking the shape for all the splitted data"
   ]
  },
  {
   "cell_type": "code",
   "execution_count": 37,
   "id": "31ca4384",
   "metadata": {},
   "outputs": [
    {
     "data": {
      "text/plain": [
       "(10297, 20)"
      ]
     },
     "execution_count": 37,
     "metadata": {},
     "output_type": "execute_result"
    }
   ],
   "source": [
    "x_test.shape"
   ]
  },
  {
   "cell_type": "code",
   "execution_count": 38,
   "id": "a719d242",
   "metadata": {},
   "outputs": [
    {
     "data": {
      "text/plain": [
       "(30891,)"
      ]
     },
     "execution_count": 38,
     "metadata": {},
     "output_type": "execute_result"
    }
   ],
   "source": [
    "y_train.shape"
   ]
  },
  {
   "cell_type": "code",
   "execution_count": 39,
   "id": "9021c7d8",
   "metadata": {},
   "outputs": [
    {
     "data": {
      "text/plain": [
       "(10297,)"
      ]
     },
     "execution_count": 39,
     "metadata": {},
     "output_type": "execute_result"
    }
   ],
   "source": [
    "y_test.shape"
   ]
  },
  {
   "cell_type": "code",
   "execution_count": 40,
   "id": "7b5c860a",
   "metadata": {},
   "outputs": [],
   "source": [
    "from sklearn.preprocessing import StandardScaler #used for scaling the data\n",
    "sc = StandardScaler()\n",
    "x_train = sc.fit_transform(x_train)  #fit for train the data\n",
    "                                     #transform for converting all the datatypes as single datatypes\n",
    "x_test = sc.transform(x_test)"
   ]
  },
  {
   "cell_type": "code",
   "execution_count": 41,
   "id": "598ad0fd",
   "metadata": {
    "scrolled": true
   },
   "outputs": [
    {
     "name": "stdout",
     "output_type": "stream",
     "text": [
      "Confusion Matrix:  [[8918  221]\n",
      " [ 675  483]]\n",
      "Accuracy :  91.29843643779742\n",
      "Report :                precision    recall  f1-score   support\n",
      "\n",
      "           0       0.93      0.98      0.95      9139\n",
      "           1       0.69      0.42      0.52      1158\n",
      "\n",
      "    accuracy                           0.91     10297\n",
      "   macro avg       0.81      0.70      0.74     10297\n",
      "weighted avg       0.90      0.91      0.90     10297\n",
      "\n"
     ]
    }
   ],
   "source": [
    "logistic_regression(x_train, y_train, x_test, y_test)"
   ]
  },
  {
   "cell_type": "code",
   "execution_count": 42,
   "id": "490a5f98",
   "metadata": {},
   "outputs": [
    {
     "name": "stdout",
     "output_type": "stream",
     "text": [
      "Confusion Matrix:  [[8799  340]\n",
      " [ 646  512]]\n",
      "Accuracy :  90.4243954549869\n",
      "Report :                precision    recall  f1-score   support\n",
      "\n",
      "           0       0.93      0.96      0.95      9139\n",
      "           1       0.60      0.44      0.51      1158\n",
      "\n",
      "    accuracy                           0.90     10297\n",
      "   macro avg       0.77      0.70      0.73     10297\n",
      "weighted avg       0.89      0.90      0.90     10297\n",
      "\n"
     ]
    }
   ],
   "source": [
    "knn(x_train, y_train, x_test, y_test)    "
   ]
  },
  {
   "cell_type": "code",
   "execution_count": 43,
   "id": "1dfadfa8",
   "metadata": {},
   "outputs": [
    {
     "name": "stdout",
     "output_type": "stream",
     "text": [
      "Confusion Matrix:  [[8576  563]\n",
      " [ 549  609]]\n",
      "Accuracy :  89.20073807905216\n",
      "Report :                precision    recall  f1-score   support\n",
      "\n",
      "           0       0.94      0.94      0.94      9139\n",
      "           1       0.52      0.53      0.52      1158\n",
      "\n",
      "    accuracy                           0.89     10297\n",
      "   macro avg       0.73      0.73      0.73     10297\n",
      "weighted avg       0.89      0.89      0.89     10297\n",
      "\n"
     ]
    }
   ],
   "source": [
    "decision_tree(x_train, y_train, x_test, y_test)  "
   ]
  },
  {
   "cell_type": "code",
   "execution_count": 44,
   "id": "0e6bffab",
   "metadata": {},
   "outputs": [
    {
     "name": "stdout",
     "output_type": "stream",
     "text": [
      "Confusion Matrix:  [[8845  294]\n",
      " [ 566  592]]\n",
      "Accuracy :  91.64805283092163\n",
      "Report :                precision    recall  f1-score   support\n",
      "\n",
      "           0       0.94      0.97      0.95      9139\n",
      "           1       0.67      0.51      0.58      1158\n",
      "\n",
      "    accuracy                           0.92     10297\n",
      "   macro avg       0.80      0.74      0.77     10297\n",
      "weighted avg       0.91      0.92      0.91     10297\n",
      "\n"
     ]
    }
   ],
   "source": [
    "random_forest(x_train, y_train, x_test, y_test) "
   ]
  },
  {
   "cell_type": "code",
   "execution_count": 45,
   "id": "b23c5bc8",
   "metadata": {},
   "outputs": [
    {
     "name": "stdout",
     "output_type": "stream",
     "text": [
      "Confusion Matrix:  [[8940  199]\n",
      " [ 717  441]]\n",
      "Accuracy :  91.10420510828396\n",
      "Report :                precision    recall  f1-score   support\n",
      "\n",
      "           0       0.93      0.98      0.95      9139\n",
      "           1       0.69      0.38      0.49      1158\n",
      "\n",
      "    accuracy                           0.91     10297\n",
      "   macro avg       0.81      0.68      0.72     10297\n",
      "weighted avg       0.90      0.91      0.90     10297\n",
      "\n"
     ]
    }
   ],
   "source": [
    "from sklearn.svm import SVC\n",
    "svm(x_train, y_train, x_test, y_test)"
   ]
  },
  {
   "cell_type": "code",
   "execution_count": 46,
   "id": "3246707c",
   "metadata": {
    "scrolled": true
   },
   "outputs": [
    {
     "data": {
      "text/html": [
       "<div>\n",
       "<style scoped>\n",
       "    .dataframe tbody tr th:only-of-type {\n",
       "        vertical-align: middle;\n",
       "    }\n",
       "\n",
       "    .dataframe tbody tr th {\n",
       "        vertical-align: top;\n",
       "    }\n",
       "\n",
       "    .dataframe thead th {\n",
       "        text-align: right;\n",
       "    }\n",
       "</style>\n",
       "<table border=\"1\" class=\"dataframe\">\n",
       "  <thead>\n",
       "    <tr style=\"text-align: right;\">\n",
       "      <th></th>\n",
       "      <th>age</th>\n",
       "      <th>job</th>\n",
       "      <th>marital</th>\n",
       "      <th>education</th>\n",
       "      <th>default</th>\n",
       "      <th>housing</th>\n",
       "      <th>loan</th>\n",
       "      <th>contact</th>\n",
       "      <th>month</th>\n",
       "      <th>day_of_week</th>\n",
       "      <th>...</th>\n",
       "      <th>campaign</th>\n",
       "      <th>pdays</th>\n",
       "      <th>previous</th>\n",
       "      <th>poutcome</th>\n",
       "      <th>emp.var.rate</th>\n",
       "      <th>cons.price.idx</th>\n",
       "      <th>cons.conf.idx</th>\n",
       "      <th>euribor3m</th>\n",
       "      <th>nr.employed</th>\n",
       "      <th>y</th>\n",
       "    </tr>\n",
       "  </thead>\n",
       "  <tbody>\n",
       "    <tr>\n",
       "      <th>0</th>\n",
       "      <td>56</td>\n",
       "      <td>1</td>\n",
       "      <td>11</td>\n",
       "      <td>1</td>\n",
       "      <td>0</td>\n",
       "      <td>0</td>\n",
       "      <td>0</td>\n",
       "      <td>99</td>\n",
       "      <td>5</td>\n",
       "      <td>1</td>\n",
       "      <td>...</td>\n",
       "      <td>1</td>\n",
       "      <td>999</td>\n",
       "      <td>0</td>\n",
       "      <td>1</td>\n",
       "      <td>1.1</td>\n",
       "      <td>93.994</td>\n",
       "      <td>-36.4</td>\n",
       "      <td>4.857</td>\n",
       "      <td>5191.0</td>\n",
       "      <td>0</td>\n",
       "    </tr>\n",
       "    <tr>\n",
       "      <th>1</th>\n",
       "      <td>57</td>\n",
       "      <td>2</td>\n",
       "      <td>11</td>\n",
       "      <td>2</td>\n",
       "      <td>2</td>\n",
       "      <td>0</td>\n",
       "      <td>0</td>\n",
       "      <td>99</td>\n",
       "      <td>5</td>\n",
       "      <td>1</td>\n",
       "      <td>...</td>\n",
       "      <td>1</td>\n",
       "      <td>999</td>\n",
       "      <td>0</td>\n",
       "      <td>1</td>\n",
       "      <td>1.1</td>\n",
       "      <td>93.994</td>\n",
       "      <td>-36.4</td>\n",
       "      <td>4.857</td>\n",
       "      <td>5191.0</td>\n",
       "      <td>0</td>\n",
       "    </tr>\n",
       "    <tr>\n",
       "      <th>2</th>\n",
       "      <td>37</td>\n",
       "      <td>2</td>\n",
       "      <td>11</td>\n",
       "      <td>2</td>\n",
       "      <td>0</td>\n",
       "      <td>1</td>\n",
       "      <td>0</td>\n",
       "      <td>99</td>\n",
       "      <td>5</td>\n",
       "      <td>1</td>\n",
       "      <td>...</td>\n",
       "      <td>1</td>\n",
       "      <td>999</td>\n",
       "      <td>0</td>\n",
       "      <td>1</td>\n",
       "      <td>1.1</td>\n",
       "      <td>93.994</td>\n",
       "      <td>-36.4</td>\n",
       "      <td>4.857</td>\n",
       "      <td>5191.0</td>\n",
       "      <td>0</td>\n",
       "    </tr>\n",
       "    <tr>\n",
       "      <th>3</th>\n",
       "      <td>40</td>\n",
       "      <td>3</td>\n",
       "      <td>11</td>\n",
       "      <td>3</td>\n",
       "      <td>0</td>\n",
       "      <td>0</td>\n",
       "      <td>0</td>\n",
       "      <td>99</td>\n",
       "      <td>5</td>\n",
       "      <td>1</td>\n",
       "      <td>...</td>\n",
       "      <td>1</td>\n",
       "      <td>999</td>\n",
       "      <td>0</td>\n",
       "      <td>1</td>\n",
       "      <td>1.1</td>\n",
       "      <td>93.994</td>\n",
       "      <td>-36.4</td>\n",
       "      <td>4.857</td>\n",
       "      <td>5191.0</td>\n",
       "      <td>0</td>\n",
       "    </tr>\n",
       "    <tr>\n",
       "      <th>4</th>\n",
       "      <td>56</td>\n",
       "      <td>2</td>\n",
       "      <td>11</td>\n",
       "      <td>2</td>\n",
       "      <td>0</td>\n",
       "      <td>0</td>\n",
       "      <td>1</td>\n",
       "      <td>99</td>\n",
       "      <td>5</td>\n",
       "      <td>1</td>\n",
       "      <td>...</td>\n",
       "      <td>1</td>\n",
       "      <td>999</td>\n",
       "      <td>0</td>\n",
       "      <td>1</td>\n",
       "      <td>1.1</td>\n",
       "      <td>93.994</td>\n",
       "      <td>-36.4</td>\n",
       "      <td>4.857</td>\n",
       "      <td>5191.0</td>\n",
       "      <td>0</td>\n",
       "    </tr>\n",
       "  </tbody>\n",
       "</table>\n",
       "<p>5 rows × 21 columns</p>\n",
       "</div>"
      ],
      "text/plain": [
       "   age  job  marital  education  default  housing  loan  contact  month  \\\n",
       "0   56    1       11          1        0        0     0       99      5   \n",
       "1   57    2       11          2        2        0     0       99      5   \n",
       "2   37    2       11          2        0        1     0       99      5   \n",
       "3   40    3       11          3        0        0     0       99      5   \n",
       "4   56    2       11          2        0        0     1       99      5   \n",
       "\n",
       "   day_of_week  ...  campaign  pdays  previous  poutcome  emp.var.rate  \\\n",
       "0            1  ...         1    999         0         1           1.1   \n",
       "1            1  ...         1    999         0         1           1.1   \n",
       "2            1  ...         1    999         0         1           1.1   \n",
       "3            1  ...         1    999         0         1           1.1   \n",
       "4            1  ...         1    999         0         1           1.1   \n",
       "\n",
       "   cons.price.idx  cons.conf.idx  euribor3m  nr.employed  y  \n",
       "0          93.994          -36.4      4.857       5191.0  0  \n",
       "1          93.994          -36.4      4.857       5191.0  0  \n",
       "2          93.994          -36.4      4.857       5191.0  0  \n",
       "3          93.994          -36.4      4.857       5191.0  0  \n",
       "4          93.994          -36.4      4.857       5191.0  0  \n",
       "\n",
       "[5 rows x 21 columns]"
      ]
     },
     "execution_count": 46,
     "metadata": {},
     "output_type": "execute_result"
    }
   ],
   "source": [
    "data.head()"
   ]
  },
  {
   "cell_type": "code",
   "execution_count": 47,
   "id": "27353bd4",
   "metadata": {},
   "outputs": [
    {
     "data": {
      "text/plain": [
       "(41188, 21)"
      ]
     },
     "execution_count": 47,
     "metadata": {},
     "output_type": "execute_result"
    }
   ],
   "source": [
    "data.shape"
   ]
  },
  {
   "cell_type": "markdown",
   "id": "03cfea6d",
   "metadata": {},
   "source": [
    "dropping features "
   ]
  },
  {
   "cell_type": "code",
   "execution_count": 48,
   "id": "992bda0a",
   "metadata": {},
   "outputs": [
    {
     "data": {
      "text/html": [
       "<div>\n",
       "<style scoped>\n",
       "    .dataframe tbody tr th:only-of-type {\n",
       "        vertical-align: middle;\n",
       "    }\n",
       "\n",
       "    .dataframe tbody tr th {\n",
       "        vertical-align: top;\n",
       "    }\n",
       "\n",
       "    .dataframe thead th {\n",
       "        text-align: right;\n",
       "    }\n",
       "</style>\n",
       "<table border=\"1\" class=\"dataframe\">\n",
       "  <thead>\n",
       "    <tr style=\"text-align: right;\">\n",
       "      <th></th>\n",
       "      <th>age</th>\n",
       "      <th>job</th>\n",
       "      <th>marital</th>\n",
       "      <th>education</th>\n",
       "      <th>default</th>\n",
       "      <th>housing</th>\n",
       "      <th>loan</th>\n",
       "      <th>contact</th>\n",
       "      <th>month</th>\n",
       "      <th>day_of_week</th>\n",
       "      <th>duration</th>\n",
       "      <th>campaign</th>\n",
       "      <th>previous</th>\n",
       "      <th>poutcome</th>\n",
       "      <th>cons.price.idx</th>\n",
       "      <th>cons.conf.idx</th>\n",
       "      <th>euribor3m</th>\n",
       "      <th>y</th>\n",
       "    </tr>\n",
       "  </thead>\n",
       "  <tbody>\n",
       "    <tr>\n",
       "      <th>0</th>\n",
       "      <td>56</td>\n",
       "      <td>1</td>\n",
       "      <td>11</td>\n",
       "      <td>1</td>\n",
       "      <td>0</td>\n",
       "      <td>0</td>\n",
       "      <td>0</td>\n",
       "      <td>99</td>\n",
       "      <td>5</td>\n",
       "      <td>1</td>\n",
       "      <td>261</td>\n",
       "      <td>1</td>\n",
       "      <td>0</td>\n",
       "      <td>1</td>\n",
       "      <td>93.994</td>\n",
       "      <td>-36.4</td>\n",
       "      <td>4.857</td>\n",
       "      <td>0</td>\n",
       "    </tr>\n",
       "    <tr>\n",
       "      <th>1</th>\n",
       "      <td>57</td>\n",
       "      <td>2</td>\n",
       "      <td>11</td>\n",
       "      <td>2</td>\n",
       "      <td>2</td>\n",
       "      <td>0</td>\n",
       "      <td>0</td>\n",
       "      <td>99</td>\n",
       "      <td>5</td>\n",
       "      <td>1</td>\n",
       "      <td>149</td>\n",
       "      <td>1</td>\n",
       "      <td>0</td>\n",
       "      <td>1</td>\n",
       "      <td>93.994</td>\n",
       "      <td>-36.4</td>\n",
       "      <td>4.857</td>\n",
       "      <td>0</td>\n",
       "    </tr>\n",
       "    <tr>\n",
       "      <th>2</th>\n",
       "      <td>37</td>\n",
       "      <td>2</td>\n",
       "      <td>11</td>\n",
       "      <td>2</td>\n",
       "      <td>0</td>\n",
       "      <td>1</td>\n",
       "      <td>0</td>\n",
       "      <td>99</td>\n",
       "      <td>5</td>\n",
       "      <td>1</td>\n",
       "      <td>226</td>\n",
       "      <td>1</td>\n",
       "      <td>0</td>\n",
       "      <td>1</td>\n",
       "      <td>93.994</td>\n",
       "      <td>-36.4</td>\n",
       "      <td>4.857</td>\n",
       "      <td>0</td>\n",
       "    </tr>\n",
       "    <tr>\n",
       "      <th>3</th>\n",
       "      <td>40</td>\n",
       "      <td>3</td>\n",
       "      <td>11</td>\n",
       "      <td>3</td>\n",
       "      <td>0</td>\n",
       "      <td>0</td>\n",
       "      <td>0</td>\n",
       "      <td>99</td>\n",
       "      <td>5</td>\n",
       "      <td>1</td>\n",
       "      <td>151</td>\n",
       "      <td>1</td>\n",
       "      <td>0</td>\n",
       "      <td>1</td>\n",
       "      <td>93.994</td>\n",
       "      <td>-36.4</td>\n",
       "      <td>4.857</td>\n",
       "      <td>0</td>\n",
       "    </tr>\n",
       "    <tr>\n",
       "      <th>4</th>\n",
       "      <td>56</td>\n",
       "      <td>2</td>\n",
       "      <td>11</td>\n",
       "      <td>2</td>\n",
       "      <td>0</td>\n",
       "      <td>0</td>\n",
       "      <td>1</td>\n",
       "      <td>99</td>\n",
       "      <td>5</td>\n",
       "      <td>1</td>\n",
       "      <td>307</td>\n",
       "      <td>1</td>\n",
       "      <td>0</td>\n",
       "      <td>1</td>\n",
       "      <td>93.994</td>\n",
       "      <td>-36.4</td>\n",
       "      <td>4.857</td>\n",
       "      <td>0</td>\n",
       "    </tr>\n",
       "  </tbody>\n",
       "</table>\n",
       "</div>"
      ],
      "text/plain": [
       "   age  job  marital  education  default  housing  loan  contact  month  \\\n",
       "0   56    1       11          1        0        0     0       99      5   \n",
       "1   57    2       11          2        2        0     0       99      5   \n",
       "2   37    2       11          2        0        1     0       99      5   \n",
       "3   40    3       11          3        0        0     0       99      5   \n",
       "4   56    2       11          2        0        0     1       99      5   \n",
       "\n",
       "   day_of_week  duration  campaign  previous  poutcome  cons.price.idx  \\\n",
       "0            1       261         1         0         1          93.994   \n",
       "1            1       149         1         0         1          93.994   \n",
       "2            1       226         1         0         1          93.994   \n",
       "3            1       151         1         0         1          93.994   \n",
       "4            1       307         1         0         1          93.994   \n",
       "\n",
       "   cons.conf.idx  euribor3m  y  \n",
       "0          -36.4      4.857  0  \n",
       "1          -36.4      4.857  0  \n",
       "2          -36.4      4.857  0  \n",
       "3          -36.4      4.857  0  \n",
       "4          -36.4      4.857  0  "
      ]
     },
     "execution_count": 48,
     "metadata": {},
     "output_type": "execute_result"
    }
   ],
   "source": [
    "data.drop(columns = ['pdays','emp.var.rate', 'nr.employed'],inplace = True, axis=1)    \n",
    "data_mod = data.copy()\n",
    "data_mod.head()"
   ]
  },
  {
   "cell_type": "code",
   "execution_count": 49,
   "id": "024e1d93",
   "metadata": {},
   "outputs": [
    {
     "data": {
      "text/plain": [
       "(41188, 18)"
      ]
     },
     "execution_count": 49,
     "metadata": {},
     "output_type": "execute_result"
    }
   ],
   "source": [
    "data_mod.shape"
   ]
  },
  {
   "cell_type": "code",
   "execution_count": 50,
   "id": "e52d2767",
   "metadata": {},
   "outputs": [],
   "source": [
    "m=data_mod.iloc[:,:-1].values  \n",
    "n=data_mod.iloc[:,-1].values "
   ]
  },
  {
   "cell_type": "code",
   "execution_count": 51,
   "id": "8a1238a7",
   "metadata": {},
   "outputs": [],
   "source": [
    "x_train_drop, x_test_drop, y_train_drop, y_test_drop= train_test_split (m, n, test_size=0.25, random_state=0)"
   ]
  },
  {
   "cell_type": "code",
   "execution_count": 52,
   "id": "fdbb66fa",
   "metadata": {},
   "outputs": [
    {
     "name": "stdout",
     "output_type": "stream",
     "text": [
      "(30891, 17)\n",
      "(10297, 17)\n",
      "(30891,)\n",
      "(10297,)\n"
     ]
    }
   ],
   "source": [
    "print(x_train_drop.shape)\n",
    "print(x_test_drop.shape)\n",
    "print(y_train_drop.shape)\n",
    "print(y_test_drop.shape)"
   ]
  },
  {
   "cell_type": "code",
   "execution_count": 53,
   "id": "2a63a1b9",
   "metadata": {},
   "outputs": [],
   "source": [
    "from sklearn.preprocessing import StandardScaler \n",
    "sm = StandardScaler()\n",
    "x_train_drop = sm.fit_transform(x_train_drop)  \n",
    "x_test_drop = sm.transform(x_test_drop)  "
   ]
  },
  {
   "cell_type": "code",
   "execution_count": 54,
   "id": "b04defda",
   "metadata": {},
   "outputs": [
    {
     "name": "stdout",
     "output_type": "stream",
     "text": [
      "Logistic Regression\n",
      "Confusion Matrix:  [[8930  209]\n",
      " [ 677  481]]\n",
      "Accuracy :  91.39555210255415\n",
      "Report :                precision    recall  f1-score   support\n",
      "\n",
      "           0       0.93      0.98      0.95      9139\n",
      "           1       0.70      0.42      0.52      1158\n",
      "\n",
      "    accuracy                           0.91     10297\n",
      "   macro avg       0.81      0.70      0.74     10297\n",
      "weighted avg       0.90      0.91      0.90     10297\n",
      "\n",
      "------------------------------\n",
      "knn\n",
      "Confusion Matrix:  [[8809  330]\n",
      " [ 659  499]]\n",
      "Accuracy :  90.39526075555987\n",
      "Report :                precision    recall  f1-score   support\n",
      "\n",
      "           0       0.93      0.96      0.95      9139\n",
      "           1       0.60      0.43      0.50      1158\n",
      "\n",
      "    accuracy                           0.90     10297\n",
      "   macro avg       0.77      0.70      0.72     10297\n",
      "weighted avg       0.89      0.90      0.90     10297\n",
      "\n",
      "------------------------------\n",
      "Decision tree\n",
      "Confusion Matrix:  [[8541  598]\n",
      " [ 546  612]]\n",
      "Accuracy :  88.88996795183063\n",
      "Report :                precision    recall  f1-score   support\n",
      "\n",
      "           0       0.94      0.93      0.94      9139\n",
      "           1       0.51      0.53      0.52      1158\n",
      "\n",
      "    accuracy                           0.89     10297\n",
      "   macro avg       0.72      0.73      0.73     10297\n",
      "weighted avg       0.89      0.89      0.89     10297\n",
      "\n",
      "------------------------------\n",
      "Random forest\n",
      "Confusion Matrix:  [[8817  322]\n",
      " [ 564  594]]\n",
      "Accuracy :  91.39555210255415\n",
      "Report :                precision    recall  f1-score   support\n",
      "\n",
      "           0       0.94      0.96      0.95      9139\n",
      "           1       0.65      0.51      0.57      1158\n",
      "\n",
      "    accuracy                           0.91     10297\n",
      "   macro avg       0.79      0.74      0.76     10297\n",
      "weighted avg       0.91      0.91      0.91     10297\n",
      "\n",
      "------------------------------\n",
      "SVM\n",
      "Confusion Matrix:  [[8954  185]\n",
      " [ 727  431]]\n",
      "Accuracy :  91.14305137418665\n",
      "Report :                precision    recall  f1-score   support\n",
      "\n",
      "           0       0.92      0.98      0.95      9139\n",
      "           1       0.70      0.37      0.49      1158\n",
      "\n",
      "    accuracy                           0.91     10297\n",
      "   macro avg       0.81      0.68      0.72     10297\n",
      "weighted avg       0.90      0.91      0.90     10297\n",
      "\n",
      "AdaBoostClassifier()\n",
      "Accuracy: 91.37%\n",
      "GradientBoostingClassifier()\n",
      "Accuracy: 91.91%\n"
     ]
    }
   ],
   "source": [
    "dropped_param()"
   ]
  },
  {
   "cell_type": "code",
   "execution_count": 55,
   "id": "b5066dda",
   "metadata": {},
   "outputs": [
    {
     "name": "stdout",
     "output_type": "stream",
     "text": [
      "AdaBoostClassifier()\n",
      "Accuracy: 91.41%\n",
      "GradientBoostingClassifier()\n",
      "Accuracy: 92.25%\n"
     ]
    }
   ],
   "source": [
    "adaboost_classifier(x_train, y_train, x_test, y_test)\n",
    "gradientboost_classifier(x_train, y_train, x_test, y_test)"
   ]
  },
  {
   "cell_type": "markdown",
   "id": "c60d49c3",
   "metadata": {},
   "source": [
    "hyper parameter tuning - grid and random search"
   ]
  },
  {
   "cell_type": "markdown",
   "id": "f668b684",
   "metadata": {},
   "source": [
    "Grid search"
   ]
  },
  {
   "cell_type": "code",
   "execution_count": 56,
   "id": "30672da5",
   "metadata": {},
   "outputs": [
    {
     "data": {
      "text/plain": [
       "GridSearchCV(cv=5,\n",
       "             estimator=RandomForestClassifier(n_jobs=-1, random_state=0,\n",
       "                                              warm_start=True),\n",
       "             param_grid=[{'bootstrap': [True], 'criterion': ['gini'],\n",
       "                          'max_depth': [100], 'max_features': [3],\n",
       "                          'min_samples_leaf': [1], 'min_samples_split': [4],\n",
       "                          'n_estimators': [200], 'oob_score': [True]}])"
      ]
     },
     "execution_count": 56,
     "metadata": {},
     "output_type": "execute_result"
    }
   ],
   "source": [
    "#using grid search for tuning parameters\n",
    "param_grid = [\n",
    "        {'n_estimators': [200], #no of trees  #increasing the no of trees affects the accuracy\n",
    "         'max_features': [3], #got this by sqrt the features for better prediction  \n",
    "         'max_depth' : [100],   #increaing this will increase the accuracy\n",
    "                               #after 55 if i increase there is nothing change in the accuracy\n",
    "         'min_samples_split' : [4],  #minimum number of samples required to split an internal node\n",
    "         'min_samples_leaf' : [1], #The minimum number of samples required to be at a leaf node\n",
    "         'criterion' : ['gini'],  #entropy performs bad so i go with gini\n",
    "         \"oob_score\": [True],\n",
    "         \"bootstrap\": [True]}\n",
    "]\n",
    "bank_RF = RandomForestClassifier(n_jobs=-1, warm_start = True, random_state=0) \n",
    "                                #n_jobs - The number of jobs to run in parallel, -1 all processors\n",
    "                                #warm_start - reuse the solution of the previous call to fit and add more estimators to the ensemble\n",
    "#using 5 fold, because it's faster to train cv=5.\n",
    "grid_search = GridSearchCV(bank_RF, param_grid, cv = 5)\n",
    "grid_search.fit(x_train_drop, y_train_drop)"
   ]
  },
  {
   "cell_type": "code",
   "execution_count": 57,
   "id": "c17a19d7",
   "metadata": {},
   "outputs": [
    {
     "data": {
      "text/plain": [
       "RandomForestClassifier(max_depth=100, max_features=3, min_samples_split=4,\n",
       "                       n_estimators=200, n_jobs=-1, oob_score=True,\n",
       "                       random_state=0, warm_start=True)"
      ]
     },
     "execution_count": 57,
     "metadata": {},
     "output_type": "execute_result"
    }
   ],
   "source": [
    "grid_search.best_estimator_"
   ]
  },
  {
   "cell_type": "code",
   "execution_count": 58,
   "id": "44aae462",
   "metadata": {},
   "outputs": [
    {
     "name": "stdout",
     "output_type": "stream",
     "text": [
      "Final_Accuracy: 91.7452\n",
      "Recall: 0.5215889464594128\n",
      "Pecision: 0.6711111111111111\n",
      "f1 score: 0.586977648202138\n",
      "acu_area: 0.7446001412459007\n",
      "GradientBoostingClassifier()\n",
      "Accuracy: 91.83%\n"
     ]
    }
   ],
   "source": [
    "#train Random Forest using those parameters\n",
    "model = grid_search.best_estimator_\n",
    "x_test_drop = sc.fit_transform(x_test_drop)\n",
    "final_predictions = model.predict(x_test_drop)\n",
    "final_accuracy = accuracy_score(y_test_drop,final_predictions)\n",
    "Recall = recall_score(y_test_drop,final_predictions)\n",
    "Precision = precision_score(y_test_drop,final_predictions)\n",
    "F1_Score = f1_score(y_test_drop,final_predictions)\n",
    "acu_score = roc_auc_score(y_test_drop,final_predictions)\n",
    "print(\"Final_Accuracy: {:.4f}\".format(final_accuracy*100))\n",
    "print(\"Recall: \" + str(Recall))\n",
    "print(\"Pecision: \" + str(Precision))\n",
    "print(\"f1 score: \" + str(F1_Score))\n",
    "print(\"acu_area: \" + str(acu_score))\n",
    "\n",
    "#boosting\n",
    "gradientboost_classifier(x_train_drop, y_train_drop, x_test_drop, y_test_drop)"
   ]
  },
  {
   "cell_type": "markdown",
   "id": "198e82ec",
   "metadata": {},
   "source": [
    "Random search"
   ]
  },
  {
   "cell_type": "code",
   "execution_count": 59,
   "id": "dd45b0fd",
   "metadata": {},
   "outputs": [
    {
     "name": "stdout",
     "output_type": "stream",
     "text": [
      "Fitting 5 folds for each of 1 candidates, totalling 5 fits\n"
     ]
    },
    {
     "name": "stderr",
     "output_type": "stream",
     "text": [
      "/home/suvetha/anaconda3/lib/python3.8/site-packages/sklearn/model_selection/_search.py:292: UserWarning: The total space of parameters 1 is smaller than n_iter=20. Running 1 iterations. For exhaustive searches, use GridSearchCV.\n",
      "  warnings.warn(\n"
     ]
    },
    {
     "data": {
      "text/plain": [
       "RandomizedSearchCV(cv=5,\n",
       "                   estimator=RandomForestClassifier(n_jobs=-1, random_state=0,\n",
       "                                                    warm_start=True),\n",
       "                   n_iter=20,\n",
       "                   param_distributions=[{'bootstrap': [True],\n",
       "                                         'criterion': ['gini'],\n",
       "                                         'max_depth': [100],\n",
       "                                         'max_features': [3],\n",
       "                                         'min_samples_leaf': [1],\n",
       "                                         'min_samples_split': [4],\n",
       "                                         'n_estimators': [200],\n",
       "                                         'oob_score': [True]}],\n",
       "                   random_state=42, return_train_score=True, verbose=1)"
      ]
     },
     "execution_count": 59,
     "metadata": {},
     "output_type": "execute_result"
    }
   ],
   "source": [
    "#model\n",
    "MOD = RandomForestClassifier(n_jobs=-1, warm_start = True, random_state=0)\n",
    "random_search = RandomizedSearchCV(MOD,param_grid, n_iter = 20,return_train_score = True,random_state = 42,cv = 5,verbose = 1) \n",
    "#trains and optimizes the model\n",
    "random_search.fit(x_train_drop, y_train_drop)"
   ]
  },
  {
   "cell_type": "code",
   "execution_count": 60,
   "id": "5b3a77f1",
   "metadata": {},
   "outputs": [],
   "source": [
    "#recover the best model\n",
    "MOD = random_search.best_estimator_"
   ]
  },
  {
   "cell_type": "code",
   "execution_count": 61,
   "id": "b25722a7",
   "metadata": {},
   "outputs": [
    {
     "name": "stdout",
     "output_type": "stream",
     "text": [
      "Final_Accuracy: 91.7452\n",
      "Recall: 0.5215889464594128\n",
      "Pecision: 0.6711111111111111\n",
      "f1 score: 0.586977648202138\n",
      "acu_area: 0.7446001412459007\n"
     ]
    }
   ],
   "source": [
    "model = random_search.best_estimator_\n",
    "x_test_drop = sc.fit_transform(x_test_drop)\n",
    "final_predictions = model.predict(x_test_drop)\n",
    "final_accuracy = accuracy_score(y_test_drop,final_predictions)\n",
    "Recall = recall_score(y_test_drop,final_predictions)\n",
    "Precision = precision_score(y_test_drop,final_predictions)\n",
    "F1_Score = f1_score(y_test_drop,final_predictions)\n",
    "acu_score = roc_auc_score(y_test_drop,final_predictions)\n",
    "print(\"Final_Accuracy: {:.4f}\".format(final_accuracy*100))\n",
    "print(\"Recall: \" + str(Recall))\n",
    "print(\"Pecision: \" + str(Precision))\n",
    "print(\"f1 score: \" + str(F1_Score))\n",
    "print(\"acu_area: \" + str(acu_score))\n"
   ]
  },
  {
   "cell_type": "markdown",
   "id": "babe986c",
   "metadata": {},
   "source": [
    "visualization"
   ]
  },
  {
   "cell_type": "code",
   "execution_count": 62,
   "id": "7c8a4e75",
   "metadata": {},
   "outputs": [],
   "source": [
    "import PIL\n",
    "import pydotplus\n",
    "from glob import glob\n",
    "from IPython.display import display,Image\n",
    "from sklearn.tree import export_graphviz\n",
    "from sklearn import tree"
   ]
  },
  {
   "cell_type": "code",
   "execution_count": 63,
   "id": "d75f6807",
   "metadata": {},
   "outputs": [
    {
     "data": {
      "text/plain": [
       "RandomForestClassifier(bootstrap=False, max_depth=3, n_estimators=5, n_jobs=-1)"
      ]
     },
     "execution_count": 63,
     "metadata": {},
     "output_type": "execute_result"
    }
   ],
   "source": [
    "import warnings               \n",
    "warnings.filterwarnings('ignore')\n",
    "from sklearn.tree import export_graphviz\n",
    "from IPython import display\n",
    "from sklearn.ensemble import RandomForestRegressor\n",
    "\n",
    "m=RandomForestClassifier(n_estimators=5,max_depth=3,bootstrap=False,n_jobs=-1)   #5 trees to the max  depth = 3 n value = -1leaf\n",
    "m.fit(x_train_drop,y_train_drop)"
   ]
  },
  {
   "cell_type": "code",
   "execution_count": 64,
   "id": "4c187ea4",
   "metadata": {},
   "outputs": [],
   "source": [
    "col=data.columns.tolist()\n",
    "feature_names=col[:-1]\n",
    "target_names=col[-1]"
   ]
  },
  {
   "cell_type": "code",
   "execution_count": 65,
   "id": "f1022c12",
   "metadata": {},
   "outputs": [
    {
     "data": {
      "text/plain": [
       "'y'"
      ]
     },
     "execution_count": 65,
     "metadata": {},
     "output_type": "execute_result"
    }
   ],
   "source": [
    "target_names"
   ]
  },
  {
   "cell_type": "code",
   "execution_count": 66,
   "id": "57eb48c0",
   "metadata": {
    "scrolled": true
   },
   "outputs": [
    {
     "data": {
      "text/plain": [
       "['age',\n",
       " 'job',\n",
       " 'marital',\n",
       " 'education',\n",
       " 'default',\n",
       " 'housing',\n",
       " 'loan',\n",
       " 'contact',\n",
       " 'month',\n",
       " 'day_of_week',\n",
       " 'duration',\n",
       " 'campaign',\n",
       " 'previous',\n",
       " 'poutcome',\n",
       " 'cons.price.idx',\n",
       " 'cons.conf.idx',\n",
       " 'euribor3m']"
      ]
     },
     "execution_count": 66,
     "metadata": {},
     "output_type": "execute_result"
    }
   ],
   "source": [
    "feature_names"
   ]
  },
  {
   "cell_type": "raw",
   "id": "681e3e8e",
   "metadata": {},
   "source": [
    "fn=feature_names\n",
    "cn=target_names\n",
    "fig, axes = plt.subplots(nrows = 1,ncols = 1,figsize = (10,2), dpi=900)\n",
    "#model = str(model)\n",
    "export_graphviz(m,feature_names = fn, class_names=cn,filled = True);\n",
    "\n",
    "#axes[index].set_title('Estimator: ' + str(index), fontsize = 11)\n",
    "fig.savefig('rf_5trees.png')"
   ]
  },
  {
   "cell_type": "raw",
   "id": "959fd39e",
   "metadata": {},
   "source": [
    "param_grid = {'C': [0.1, 1, 10, 100, 1000],\n",
    "              'gamma': [1, 0.1, 0.01, 0.001, 0.0001],\n",
    "              'kernel': ['rbf']}\n",
    " \n",
    "grid = GridSearchCV(SVC(), param_grid, refit = True, verbose = 3)\n",
    " \n",
    "#fitting the model for grid search\n",
    "grid.fit(x_train, y_train)"
   ]
  },
  {
   "cell_type": "raw",
   "id": "85885ef8",
   "metadata": {},
   "source": [
    "#print best parameter after tuning\n",
    "print(grid.best_params_)\n",
    " \n",
    "#print how our model looks after hyper-parameter tuning\n",
    "print(grid.best_estimator_)"
   ]
  },
  {
   "cell_type": "raw",
   "id": "3e30c055",
   "metadata": {},
   "source": [
    "grid_predictions = grid.predict(x_test)\n",
    " \n",
    "#print classification report\n",
    "print(classification_report(y_test, grid_predictions))"
   ]
  },
  {
   "cell_type": "markdown",
   "id": "0c22f086",
   "metadata": {},
   "source": [
    "Resampling technique for imbalanced dataset"
   ]
  },
  {
   "cell_type": "code",
   "execution_count": 67,
   "id": "244f9687",
   "metadata": {},
   "outputs": [
    {
     "data": {
      "text/plain": [
       "<AxesSubplot:xlabel='y', ylabel='count'>"
      ]
     },
     "execution_count": 67,
     "metadata": {},
     "output_type": "execute_result"
    },
    {
     "data": {
      "image/png": "[encoded data removed]",
      "text/plain": [
       "<Figure size 432x288 with 1 Axes>"
      ]
     },
     "metadata": {
      "needs_background": "light"
     },
     "output_type": "display_data"
    }
   ],
   "source": [
    "import seaborn as sns\n",
    "sns.countplot(data['y'])"
   ]
  },
  {
   "cell_type": "code",
   "execution_count": 68,
   "id": "40c86a0d",
   "metadata": {},
   "outputs": [
    {
     "data": {
      "text/plain": [
       "y\n",
       "0    36548\n",
       "1     4640\n",
       "dtype: int64"
      ]
     },
     "execution_count": 68,
     "metadata": {},
     "output_type": "execute_result"
    }
   ],
   "source": [
    "data.value_counts('y')"
   ]
  },
  {
   "cell_type": "code",
   "execution_count": 69,
   "id": "0d36c8f6",
   "metadata": {},
   "outputs": [],
   "source": [
    "from sklearn.utils import resample\n",
    "#create two different dataframe of majority and minority class \n",
    "df_majority = data[(data['y']==0)] \n",
    "df_minority = data[(data['y']==1)] \n",
    "# upsample minority class\n",
    "df_minority_upsampled = resample(df_minority, \n",
    "                                 replace=True,    # sample with replacement\n",
    "                                 n_samples= 131177, # to match majority class\n",
    "                                 random_state=42)  # reproducible results\n",
    "# Combine majority class with upsampled minority class\n",
    "df_upsampled = pd.concat([df_minority_upsampled, df_majority])"
   ]
  },
  {
   "cell_type": "code",
   "execution_count": 70,
   "id": "7cc44e89",
   "metadata": {},
   "outputs": [
    {
     "data": {
      "text/plain": [
       "1    131177\n",
       "0     36548\n",
       "Name: y, dtype: int64"
      ]
     },
     "execution_count": 70,
     "metadata": {},
     "output_type": "execute_result"
    }
   ],
   "source": [
    "df_upsampled['y'].value_counts()"
   ]
  },
  {
   "cell_type": "code",
   "execution_count": 71,
   "id": "48281544",
   "metadata": {},
   "outputs": [
    {
     "data": {
      "text/plain": [
       "<AxesSubplot:xlabel='y', ylabel='count'>"
      ]
     },
     "execution_count": 71,
     "metadata": {},
     "output_type": "execute_result"
    },
    {
     "data": {
      "image/png": "[encoded data removed]",
      "text/plain": [
       "<Figure size 432x288 with 1 Axes>"
      ]
     },
     "metadata": {
      "needs_background": "light"
     },
     "output_type": "display_data"
    }
   ],
   "source": [
    "sns.countplot(df_upsampled['y'])"
   ]
  },
  {
   "cell_type": "markdown",
   "id": "928f3304",
   "metadata": {},
   "source": [
    "SMOTE for handling imbalanced dataset"
   ]
  },
  {
   "cell_type": "code",
   "execution_count": 72,
   "id": "06d9c0ee",
   "metadata": {},
   "outputs": [
    {
     "name": "stderr",
     "output_type": "stream",
     "text": [
      "2022-04-18 11:07:45.974445: I tensorflow/stream_executor/platform/default/dso_loader.cc:49] Successfully opened dynamic library libcudart.so.10.1\n"
     ]
    }
   ],
   "source": [
    "from imblearn.over_sampling import SMOTE\n",
    "# Resampling the minority class. The strategy can be changed as required.\n",
    "sm = SMOTE(sampling_strategy='minority', random_state=42)\n",
    "# Fit the model to generate the data.\n",
    "oversampled_X, oversampled_Y = sm.fit_sample(data.drop('y', axis=1), data['y'])\n",
    "oversampled = pd.concat([pd.DataFrame(oversampled_Y), pd.DataFrame(oversampled_X)], axis=1)"
   ]
  },
  {
   "cell_type": "code",
   "execution_count": 73,
   "id": "f39ca13e",
   "metadata": {},
   "outputs": [
    {
     "data": {
      "text/html": [
       "<div>\n",
       "<style scoped>\n",
       "    .dataframe tbody tr th:only-of-type {\n",
       "        vertical-align: middle;\n",
       "    }\n",
       "\n",
       "    .dataframe tbody tr th {\n",
       "        vertical-align: top;\n",
       "    }\n",
       "\n",
       "    .dataframe thead th {\n",
       "        text-align: right;\n",
       "    }\n",
       "</style>\n",
       "<table border=\"1\" class=\"dataframe\">\n",
       "  <thead>\n",
       "    <tr style=\"text-align: right;\">\n",
       "      <th></th>\n",
       "      <th>y</th>\n",
       "      <th>age</th>\n",
       "      <th>job</th>\n",
       "      <th>marital</th>\n",
       "      <th>education</th>\n",
       "      <th>default</th>\n",
       "      <th>housing</th>\n",
       "      <th>loan</th>\n",
       "      <th>contact</th>\n",
       "      <th>month</th>\n",
       "      <th>day_of_week</th>\n",
       "      <th>duration</th>\n",
       "      <th>campaign</th>\n",
       "      <th>previous</th>\n",
       "      <th>poutcome</th>\n",
       "      <th>cons.price.idx</th>\n",
       "      <th>cons.conf.idx</th>\n",
       "      <th>euribor3m</th>\n",
       "    </tr>\n",
       "  </thead>\n",
       "  <tbody>\n",
       "    <tr>\n",
       "      <th>0</th>\n",
       "      <td>0</td>\n",
       "      <td>56</td>\n",
       "      <td>1</td>\n",
       "      <td>11</td>\n",
       "      <td>1</td>\n",
       "      <td>0</td>\n",
       "      <td>0</td>\n",
       "      <td>0</td>\n",
       "      <td>99</td>\n",
       "      <td>5</td>\n",
       "      <td>1</td>\n",
       "      <td>261</td>\n",
       "      <td>1</td>\n",
       "      <td>0</td>\n",
       "      <td>1</td>\n",
       "      <td>93.994</td>\n",
       "      <td>-36.4</td>\n",
       "      <td>4.857</td>\n",
       "    </tr>\n",
       "    <tr>\n",
       "      <th>1</th>\n",
       "      <td>0</td>\n",
       "      <td>57</td>\n",
       "      <td>2</td>\n",
       "      <td>11</td>\n",
       "      <td>2</td>\n",
       "      <td>2</td>\n",
       "      <td>0</td>\n",
       "      <td>0</td>\n",
       "      <td>99</td>\n",
       "      <td>5</td>\n",
       "      <td>1</td>\n",
       "      <td>149</td>\n",
       "      <td>1</td>\n",
       "      <td>0</td>\n",
       "      <td>1</td>\n",
       "      <td>93.994</td>\n",
       "      <td>-36.4</td>\n",
       "      <td>4.857</td>\n",
       "    </tr>\n",
       "    <tr>\n",
       "      <th>2</th>\n",
       "      <td>0</td>\n",
       "      <td>37</td>\n",
       "      <td>2</td>\n",
       "      <td>11</td>\n",
       "      <td>2</td>\n",
       "      <td>0</td>\n",
       "      <td>1</td>\n",
       "      <td>0</td>\n",
       "      <td>99</td>\n",
       "      <td>5</td>\n",
       "      <td>1</td>\n",
       "      <td>226</td>\n",
       "      <td>1</td>\n",
       "      <td>0</td>\n",
       "      <td>1</td>\n",
       "      <td>93.994</td>\n",
       "      <td>-36.4</td>\n",
       "      <td>4.857</td>\n",
       "    </tr>\n",
       "    <tr>\n",
       "      <th>3</th>\n",
       "      <td>0</td>\n",
       "      <td>40</td>\n",
       "      <td>3</td>\n",
       "      <td>11</td>\n",
       "      <td>3</td>\n",
       "      <td>0</td>\n",
       "      <td>0</td>\n",
       "      <td>0</td>\n",
       "      <td>99</td>\n",
       "      <td>5</td>\n",
       "      <td>1</td>\n",
       "      <td>151</td>\n",
       "      <td>1</td>\n",
       "      <td>0</td>\n",
       "      <td>1</td>\n",
       "      <td>93.994</td>\n",
       "      <td>-36.4</td>\n",
       "      <td>4.857</td>\n",
       "    </tr>\n",
       "    <tr>\n",
       "      <th>4</th>\n",
       "      <td>0</td>\n",
       "      <td>56</td>\n",
       "      <td>2</td>\n",
       "      <td>11</td>\n",
       "      <td>2</td>\n",
       "      <td>0</td>\n",
       "      <td>0</td>\n",
       "      <td>1</td>\n",
       "      <td>99</td>\n",
       "      <td>5</td>\n",
       "      <td>1</td>\n",
       "      <td>307</td>\n",
       "      <td>1</td>\n",
       "      <td>0</td>\n",
       "      <td>1</td>\n",
       "      <td>93.994</td>\n",
       "      <td>-36.4</td>\n",
       "      <td>4.857</td>\n",
       "    </tr>\n",
       "  </tbody>\n",
       "</table>\n",
       "</div>"
      ],
      "text/plain": [
       "   y  age  job  marital  education  default  housing  loan  contact  month  \\\n",
       "0  0   56    1       11          1        0        0     0       99      5   \n",
       "1  0   57    2       11          2        2        0     0       99      5   \n",
       "2  0   37    2       11          2        0        1     0       99      5   \n",
       "3  0   40    3       11          3        0        0     0       99      5   \n",
       "4  0   56    2       11          2        0        0     1       99      5   \n",
       "\n",
       "   day_of_week  duration  campaign  previous  poutcome  cons.price.idx  \\\n",
       "0            1       261         1         0         1          93.994   \n",
       "1            1       149         1         0         1          93.994   \n",
       "2            1       226         1         0         1          93.994   \n",
       "3            1       151         1         0         1          93.994   \n",
       "4            1       307         1         0         1          93.994   \n",
       "\n",
       "   cons.conf.idx  euribor3m  \n",
       "0          -36.4      4.857  \n",
       "1          -36.4      4.857  \n",
       "2          -36.4      4.857  \n",
       "3          -36.4      4.857  \n",
       "4          -36.4      4.857  "
      ]
     },
     "execution_count": 73,
     "metadata": {},
     "output_type": "execute_result"
    }
   ],
   "source": [
    "oversampled.head()"
   ]
  },
  {
   "cell_type": "code",
   "execution_count": 74,
   "id": "6601a734",
   "metadata": {},
   "outputs": [
    {
     "data": {
      "text/plain": [
       "0    36548\n",
       "1    36548\n",
       "Name: y, dtype: int64"
      ]
     },
     "execution_count": 74,
     "metadata": {},
     "output_type": "execute_result"
    }
   ],
   "source": [
    "oversampled['y'].value_counts()"
   ]
  },
  {
   "cell_type": "code",
   "execution_count": 75,
   "id": "52d77e05",
   "metadata": {},
   "outputs": [
    {
     "data": {
      "text/plain": [
       "<AxesSubplot:xlabel='y', ylabel='count'>"
      ]
     },
     "execution_count": 75,
     "metadata": {},
     "output_type": "execute_result"
    },
    {
     "data": {
      "image/png": "[encoded data removed]",
      "text/plain": [
       "<Figure size 432x288 with 1 Axes>"
      ]
     },
     "metadata": {
      "needs_background": "light"
     },
     "output_type": "display_data"
    }
   ],
   "source": [
    "sns.countplot(oversampled['y'])"
   ]
  },
  {
   "cell_type": "code",
   "execution_count": 76,
   "id": "e608f7be",
   "metadata": {},
   "outputs": [
    {
     "data": {
      "text/plain": [
       "(73096, 18)"
      ]
     },
     "execution_count": 76,
     "metadata": {},
     "output_type": "execute_result"
    }
   ],
   "source": [
    "oversampled.shape"
   ]
  },
  {
   "cell_type": "code",
   "execution_count": 77,
   "id": "dd1ded6f",
   "metadata": {},
   "outputs": [
    {
     "data": {
      "text/plain": [
       "Index(['y', 'age', 'job', 'marital', 'education', 'default', 'housing', 'loan',\n",
       "       'contact', 'month', 'day_of_week', 'duration', 'campaign', 'previous',\n",
       "       'poutcome', 'cons.price.idx', 'cons.conf.idx', 'euribor3m'],\n",
       "      dtype='object')"
      ]
     },
     "execution_count": 77,
     "metadata": {},
     "output_type": "execute_result"
    }
   ],
   "source": [
    "oversampled.columns"
   ]
  },
  {
   "cell_type": "code",
   "execution_count": 78,
   "id": "36cf0e02",
   "metadata": {},
   "outputs": [],
   "source": [
    "#pd.cut(oversampled, bins=3, labels=np.arange(3), right=False)"
   ]
  },
  {
   "cell_type": "code",
   "execution_count": 79,
   "id": "7d19c8d1",
   "metadata": {},
   "outputs": [],
   "source": [
    "sampled_x=oversampled.iloc[:,:-1].values  \n",
    "sampled_y=oversampled.iloc[:,-1].values "
   ]
  },
  {
   "cell_type": "code",
   "execution_count": 80,
   "id": "983231e3",
   "metadata": {},
   "outputs": [
    {
     "data": {
      "text/plain": [
       "array([[  0.        ,  56.        ,   1.        , ...,   1.        ,\n",
       "         93.994     , -36.4       ],\n",
       "       [  0.        ,  57.        ,   2.        , ...,   1.        ,\n",
       "         93.994     , -36.4       ],\n",
       "       [  0.        ,  37.        ,   2.        , ...,   1.        ,\n",
       "         93.994     , -36.4       ],\n",
       "       ...,\n",
       "       [  1.        ,  26.        ,   3.        , ...,   1.        ,\n",
       "         93.918     , -42.7       ],\n",
       "       [  1.        ,  75.        ,   6.        , ...,   0.        ,\n",
       "         93.81159755, -35.00340646],\n",
       "       [  1.        ,  48.        ,   7.        , ...,   1.        ,\n",
       "         93.7016652 , -43.82914961]])"
      ]
     },
     "execution_count": 80,
     "metadata": {},
     "output_type": "execute_result"
    }
   ],
   "source": [
    "sampled_x"
   ]
  },
  {
   "cell_type": "code",
   "execution_count": 81,
   "id": "707930c6",
   "metadata": {},
   "outputs": [],
   "source": [
    "x_train_sampled, x_test_sampled, y_train_sampled, y_test_sampled= train_test_split (sampled_x, sampled_y, test_size=0.25, random_state=0)"
   ]
  },
  {
   "cell_type": "code",
   "execution_count": 82,
   "id": "8440572a",
   "metadata": {},
   "outputs": [
    {
     "name": "stdout",
     "output_type": "stream",
     "text": [
      "(54822, 17)\n",
      "(18274, 17)\n",
      "(54822,)\n",
      "(18274,)\n"
     ]
    }
   ],
   "source": [
    "print(x_train_sampled.shape)\n",
    "print(x_test_sampled.shape)\n",
    "print(y_train_sampled.shape)\n",
    "print(y_test_sampled.shape)"
   ]
  },
  {
   "cell_type": "code",
   "execution_count": 83,
   "id": "6f1009a1",
   "metadata": {},
   "outputs": [
    {
     "data": {
      "text/html": [
       "<div>\n",
       "<style scoped>\n",
       "    .dataframe tbody tr th:only-of-type {\n",
       "        vertical-align: middle;\n",
       "    }\n",
       "\n",
       "    .dataframe tbody tr th {\n",
       "        vertical-align: top;\n",
       "    }\n",
       "\n",
       "    .dataframe thead th {\n",
       "        text-align: right;\n",
       "    }\n",
       "</style>\n",
       "<table border=\"1\" class=\"dataframe\">\n",
       "  <thead>\n",
       "    <tr style=\"text-align: right;\">\n",
       "      <th></th>\n",
       "      <th>y</th>\n",
       "      <th>age</th>\n",
       "      <th>job</th>\n",
       "      <th>marital</th>\n",
       "      <th>education</th>\n",
       "      <th>default</th>\n",
       "      <th>housing</th>\n",
       "      <th>loan</th>\n",
       "      <th>contact</th>\n",
       "      <th>month</th>\n",
       "      <th>day_of_week</th>\n",
       "      <th>duration</th>\n",
       "      <th>campaign</th>\n",
       "      <th>previous</th>\n",
       "      <th>poutcome</th>\n",
       "      <th>cons.price.idx</th>\n",
       "      <th>cons.conf.idx</th>\n",
       "      <th>euribor3m</th>\n",
       "    </tr>\n",
       "  </thead>\n",
       "  <tbody>\n",
       "    <tr>\n",
       "      <th>0</th>\n",
       "      <td>0</td>\n",
       "      <td>56</td>\n",
       "      <td>1</td>\n",
       "      <td>11</td>\n",
       "      <td>1</td>\n",
       "      <td>0</td>\n",
       "      <td>0</td>\n",
       "      <td>0</td>\n",
       "      <td>99</td>\n",
       "      <td>5</td>\n",
       "      <td>1</td>\n",
       "      <td>261</td>\n",
       "      <td>1</td>\n",
       "      <td>0</td>\n",
       "      <td>1</td>\n",
       "      <td>93.994</td>\n",
       "      <td>-36.4</td>\n",
       "      <td>4.857</td>\n",
       "    </tr>\n",
       "    <tr>\n",
       "      <th>1</th>\n",
       "      <td>0</td>\n",
       "      <td>57</td>\n",
       "      <td>2</td>\n",
       "      <td>11</td>\n",
       "      <td>2</td>\n",
       "      <td>2</td>\n",
       "      <td>0</td>\n",
       "      <td>0</td>\n",
       "      <td>99</td>\n",
       "      <td>5</td>\n",
       "      <td>1</td>\n",
       "      <td>149</td>\n",
       "      <td>1</td>\n",
       "      <td>0</td>\n",
       "      <td>1</td>\n",
       "      <td>93.994</td>\n",
       "      <td>-36.4</td>\n",
       "      <td>4.857</td>\n",
       "    </tr>\n",
       "    <tr>\n",
       "      <th>2</th>\n",
       "      <td>0</td>\n",
       "      <td>37</td>\n",
       "      <td>2</td>\n",
       "      <td>11</td>\n",
       "      <td>2</td>\n",
       "      <td>0</td>\n",
       "      <td>1</td>\n",
       "      <td>0</td>\n",
       "      <td>99</td>\n",
       "      <td>5</td>\n",
       "      <td>1</td>\n",
       "      <td>226</td>\n",
       "      <td>1</td>\n",
       "      <td>0</td>\n",
       "      <td>1</td>\n",
       "      <td>93.994</td>\n",
       "      <td>-36.4</td>\n",
       "      <td>4.857</td>\n",
       "    </tr>\n",
       "    <tr>\n",
       "      <th>3</th>\n",
       "      <td>0</td>\n",
       "      <td>40</td>\n",
       "      <td>3</td>\n",
       "      <td>11</td>\n",
       "      <td>3</td>\n",
       "      <td>0</td>\n",
       "      <td>0</td>\n",
       "      <td>0</td>\n",
       "      <td>99</td>\n",
       "      <td>5</td>\n",
       "      <td>1</td>\n",
       "      <td>151</td>\n",
       "      <td>1</td>\n",
       "      <td>0</td>\n",
       "      <td>1</td>\n",
       "      <td>93.994</td>\n",
       "      <td>-36.4</td>\n",
       "      <td>4.857</td>\n",
       "    </tr>\n",
       "    <tr>\n",
       "      <th>4</th>\n",
       "      <td>0</td>\n",
       "      <td>56</td>\n",
       "      <td>2</td>\n",
       "      <td>11</td>\n",
       "      <td>2</td>\n",
       "      <td>0</td>\n",
       "      <td>0</td>\n",
       "      <td>1</td>\n",
       "      <td>99</td>\n",
       "      <td>5</td>\n",
       "      <td>1</td>\n",
       "      <td>307</td>\n",
       "      <td>1</td>\n",
       "      <td>0</td>\n",
       "      <td>1</td>\n",
       "      <td>93.994</td>\n",
       "      <td>-36.4</td>\n",
       "      <td>4.857</td>\n",
       "    </tr>\n",
       "  </tbody>\n",
       "</table>\n",
       "</div>"
      ],
      "text/plain": [
       "   y  age  job  marital  education  default  housing  loan  contact  month  \\\n",
       "0  0   56    1       11          1        0        0     0       99      5   \n",
       "1  0   57    2       11          2        2        0     0       99      5   \n",
       "2  0   37    2       11          2        0        1     0       99      5   \n",
       "3  0   40    3       11          3        0        0     0       99      5   \n",
       "4  0   56    2       11          2        0        0     1       99      5   \n",
       "\n",
       "   day_of_week  duration  campaign  previous  poutcome  cons.price.idx  \\\n",
       "0            1       261         1         0         1          93.994   \n",
       "1            1       149         1         0         1          93.994   \n",
       "2            1       226         1         0         1          93.994   \n",
       "3            1       151         1         0         1          93.994   \n",
       "4            1       307         1         0         1          93.994   \n",
       "\n",
       "   cons.conf.idx  euribor3m  \n",
       "0          -36.4      4.857  \n",
       "1          -36.4      4.857  \n",
       "2          -36.4      4.857  \n",
       "3          -36.4      4.857  \n",
       "4          -36.4      4.857  "
      ]
     },
     "execution_count": 83,
     "metadata": {},
     "output_type": "execute_result"
    }
   ],
   "source": [
    "oversampled.head()"
   ]
  },
  {
   "cell_type": "code",
   "execution_count": 104,
   "id": "1afa9961",
   "metadata": {},
   "outputs": [
    {
     "data": {
      "text/plain": [
       "y                   int64\n",
       "age                 int64\n",
       "job                 int64\n",
       "marital             int64\n",
       "education           int64\n",
       "default             int64\n",
       "housing             int64\n",
       "loan                int64\n",
       "contact             int64\n",
       "month               int64\n",
       "day_of_week         int64\n",
       "duration            int64\n",
       "campaign            int64\n",
       "previous            int64\n",
       "poutcome            int64\n",
       "cons.price.idx    float64\n",
       "cons.conf.idx     float64\n",
       "euribor3m         float64\n",
       "dtype: object"
      ]
     },
     "execution_count": 104,
     "metadata": {},
     "output_type": "execute_result"
    }
   ],
   "source": [
    "oversampled.dtypes"
   ]
  },
  {
   "cell_type": "code",
   "execution_count": 110,
   "id": "1f113d50",
   "metadata": {},
   "outputs": [],
   "source": [
    "from sklearn.preprocessing import StandardScaler \n",
    "sm = StandardScaler()\n",
    "x_train_sampled = sm.fit_transform(x_train_sampled)  \n",
    "x_test_sampled = sm.transform(x_test_sampled)  "
   ]
  },
  {
   "cell_type": "code",
   "execution_count": 111,
   "id": "6e640d14",
   "metadata": {},
   "outputs": [
    {
     "name": "stdout",
     "output_type": "stream",
     "text": [
      "continuous-multioutput\n"
     ]
    }
   ],
   "source": [
    "from sklearn import utils\n",
    "print(utils.multiclass.type_of_target(x_train_sampled))"
   ]
  },
  {
   "cell_type": "code",
   "execution_count": 112,
   "id": "e6144aea",
   "metadata": {},
   "outputs": [
    {
     "name": "stdout",
     "output_type": "stream",
     "text": [
      "continuous\n"
     ]
    }
   ],
   "source": [
    "print(utils.multiclass.type_of_target(y_train_sampled))"
   ]
  },
  {
   "cell_type": "code",
   "execution_count": 113,
   "id": "d91fb53b",
   "metadata": {},
   "outputs": [
    {
     "name": "stdout",
     "output_type": "stream",
     "text": [
      "continuous-multioutput\n"
     ]
    }
   ],
   "source": [
    "print(utils.multiclass.type_of_target(x_test_sampled))"
   ]
  },
  {
   "cell_type": "code",
   "execution_count": 114,
   "id": "0cda90f6",
   "metadata": {},
   "outputs": [
    {
     "name": "stdout",
     "output_type": "stream",
     "text": [
      "continuous\n"
     ]
    }
   ],
   "source": [
    "print(utils.multiclass.type_of_target(y_test_sampled))"
   ]
  },
  {
   "cell_type": "code",
   "execution_count": 115,
   "id": "77d6f88f",
   "metadata": {},
   "outputs": [
    {
     "data": {
      "text/plain": [
       "'multiclass-multioutput'"
      ]
     },
     "execution_count": 115,
     "metadata": {},
     "output_type": "execute_result"
    }
   ],
   "source": [
    "a_train = utils.multiclass.type_of_target(x_train_sampled.astype('int'))\n",
    "a_train"
   ]
  },
  {
   "cell_type": "code",
   "execution_count": 116,
   "id": "b24dd0c8",
   "metadata": {},
   "outputs": [
    {
     "data": {
      "text/plain": [
       "'multiclass'"
      ]
     },
     "execution_count": 116,
     "metadata": {},
     "output_type": "execute_result"
    }
   ],
   "source": [
    "b_train = utils.multiclass.type_of_target(y_train_sampled.astype('int'))\n",
    "b_train"
   ]
  },
  {
   "cell_type": "code",
   "execution_count": 117,
   "id": "a118ad31",
   "metadata": {},
   "outputs": [
    {
     "data": {
      "text/plain": [
       "'multiclass-multioutput'"
      ]
     },
     "execution_count": 117,
     "metadata": {},
     "output_type": "execute_result"
    }
   ],
   "source": [
    "a_test = utils.multiclass.type_of_target(x_test_sampled.astype('int'))\n",
    "a_test"
   ]
  },
  {
   "cell_type": "code",
   "execution_count": 118,
   "id": "4ed0048c",
   "metadata": {},
   "outputs": [
    {
     "data": {
      "text/plain": [
       "'multiclass'"
      ]
     },
     "execution_count": 118,
     "metadata": {},
     "output_type": "execute_result"
    }
   ],
   "source": [
    "b_test = utils.multiclass.type_of_target(y_test_sampled.astype('int'))\n",
    "b_test"
   ]
  },
  {
   "cell_type": "code",
   "execution_count": 120,
   "id": "29575df5",
   "metadata": {},
   "outputs": [
    {
     "ename": "ValueError",
     "evalue": "could not convert string to float: 'multiclass-multioutput'",
     "output_type": "error",
     "traceback": [
      "\u001b[0;31m---------------------------------------------------------------------------\u001b[0m",
      "\u001b[0;31mValueError\u001b[0m                                Traceback (most recent call last)",
      "Input \u001b[0;32mIn [120]\u001b[0m, in \u001b[0;36m<cell line: 2>\u001b[0;34m()\u001b[0m\n\u001b[1;32m      1\u001b[0m model4 \u001b[38;5;241m=\u001b[39m RandomForestClassifier()\n\u001b[0;32m----> 2\u001b[0m \u001b[43mmodel4\u001b[49m\u001b[38;5;241;43m.\u001b[39;49m\u001b[43mfit\u001b[49m\u001b[43m(\u001b[49m\u001b[43ma_train\u001b[49m\u001b[43m,\u001b[49m\u001b[43m \u001b[49m\u001b[43mb_train\u001b[49m\u001b[43m)\u001b[49m                         \u001b[38;5;66;03m#fit for train\u001b[39;00m\n\u001b[1;32m      3\u001b[0m y_pred \u001b[38;5;241m=\u001b[39m model4\u001b[38;5;241m.\u001b[39mpredict(a_test)                      \u001b[38;5;66;03m#Generate predictions with the model using our X values\u001b[39;00m\n\u001b[1;32m      4\u001b[0m \u001b[38;5;28mprint\u001b[39m(\u001b[38;5;124m\"\u001b[39m\u001b[38;5;124mConfusion Matrix: \u001b[39m\u001b[38;5;124m\"\u001b[39m, confusion_matrix(b_test, y_pred))  \u001b[38;5;66;03m#confusion matrix\u001b[39;00m\n",
      "File \u001b[0;32m~/anaconda3/lib/python3.8/site-packages/sklearn/ensemble/_forest.py:327\u001b[0m, in \u001b[0;36mBaseForest.fit\u001b[0;34m(self, X, y, sample_weight)\u001b[0m\n\u001b[1;32m    325\u001b[0m \u001b[38;5;28;01mif\u001b[39;00m issparse(y):\n\u001b[1;32m    326\u001b[0m     \u001b[38;5;28;01mraise\u001b[39;00m \u001b[38;5;167;01mValueError\u001b[39;00m(\u001b[38;5;124m\"\u001b[39m\u001b[38;5;124msparse multilabel-indicator for y is not supported.\u001b[39m\u001b[38;5;124m\"\u001b[39m)\n\u001b[0;32m--> 327\u001b[0m X, y \u001b[38;5;241m=\u001b[39m \u001b[38;5;28;43mself\u001b[39;49m\u001b[38;5;241;43m.\u001b[39;49m\u001b[43m_validate_data\u001b[49m\u001b[43m(\u001b[49m\n\u001b[1;32m    328\u001b[0m \u001b[43m    \u001b[49m\u001b[43mX\u001b[49m\u001b[43m,\u001b[49m\u001b[43m \u001b[49m\u001b[43my\u001b[49m\u001b[43m,\u001b[49m\u001b[43m \u001b[49m\u001b[43mmulti_output\u001b[49m\u001b[38;5;241;43m=\u001b[39;49m\u001b[38;5;28;43;01mTrue\u001b[39;49;00m\u001b[43m,\u001b[49m\u001b[43m \u001b[49m\u001b[43maccept_sparse\u001b[49m\u001b[38;5;241;43m=\u001b[39;49m\u001b[38;5;124;43m\"\u001b[39;49m\u001b[38;5;124;43mcsc\u001b[39;49m\u001b[38;5;124;43m\"\u001b[39;49m\u001b[43m,\u001b[49m\u001b[43m \u001b[49m\u001b[43mdtype\u001b[49m\u001b[38;5;241;43m=\u001b[39;49m\u001b[43mDTYPE\u001b[49m\n\u001b[1;32m    329\u001b[0m \u001b[43m\u001b[49m\u001b[43m)\u001b[49m\n\u001b[1;32m    330\u001b[0m \u001b[38;5;28;01mif\u001b[39;00m sample_weight \u001b[38;5;129;01mis\u001b[39;00m \u001b[38;5;129;01mnot\u001b[39;00m \u001b[38;5;28;01mNone\u001b[39;00m:\n\u001b[1;32m    331\u001b[0m     sample_weight \u001b[38;5;241m=\u001b[39m _check_sample_weight(sample_weight, X)\n",
      "File \u001b[0;32m~/anaconda3/lib/python3.8/site-packages/sklearn/base.py:581\u001b[0m, in \u001b[0;36mBaseEstimator._validate_data\u001b[0;34m(self, X, y, reset, validate_separately, **check_params)\u001b[0m\n\u001b[1;32m    579\u001b[0m         y \u001b[38;5;241m=\u001b[39m check_array(y, \u001b[38;5;241m*\u001b[39m\u001b[38;5;241m*\u001b[39mcheck_y_params)\n\u001b[1;32m    580\u001b[0m     \u001b[38;5;28;01melse\u001b[39;00m:\n\u001b[0;32m--> 581\u001b[0m         X, y \u001b[38;5;241m=\u001b[39m \u001b[43mcheck_X_y\u001b[49m\u001b[43m(\u001b[49m\u001b[43mX\u001b[49m\u001b[43m,\u001b[49m\u001b[43m \u001b[49m\u001b[43my\u001b[49m\u001b[43m,\u001b[49m\u001b[43m \u001b[49m\u001b[38;5;241;43m*\u001b[39;49m\u001b[38;5;241;43m*\u001b[39;49m\u001b[43mcheck_params\u001b[49m\u001b[43m)\u001b[49m\n\u001b[1;32m    582\u001b[0m     out \u001b[38;5;241m=\u001b[39m X, y\n\u001b[1;32m    584\u001b[0m \u001b[38;5;28;01mif\u001b[39;00m \u001b[38;5;129;01mnot\u001b[39;00m no_val_X \u001b[38;5;129;01mand\u001b[39;00m check_params\u001b[38;5;241m.\u001b[39mget(\u001b[38;5;124m\"\u001b[39m\u001b[38;5;124mensure_2d\u001b[39m\u001b[38;5;124m\"\u001b[39m, \u001b[38;5;28;01mTrue\u001b[39;00m):\n",
      "File \u001b[0;32m~/anaconda3/lib/python3.8/site-packages/sklearn/utils/validation.py:964\u001b[0m, in \u001b[0;36mcheck_X_y\u001b[0;34m(X, y, accept_sparse, accept_large_sparse, dtype, order, copy, force_all_finite, ensure_2d, allow_nd, multi_output, ensure_min_samples, ensure_min_features, y_numeric, estimator)\u001b[0m\n\u001b[1;32m    961\u001b[0m \u001b[38;5;28;01mif\u001b[39;00m y \u001b[38;5;129;01mis\u001b[39;00m \u001b[38;5;28;01mNone\u001b[39;00m:\n\u001b[1;32m    962\u001b[0m     \u001b[38;5;28;01mraise\u001b[39;00m \u001b[38;5;167;01mValueError\u001b[39;00m(\u001b[38;5;124m\"\u001b[39m\u001b[38;5;124my cannot be None\u001b[39m\u001b[38;5;124m\"\u001b[39m)\n\u001b[0;32m--> 964\u001b[0m X \u001b[38;5;241m=\u001b[39m \u001b[43mcheck_array\u001b[49m\u001b[43m(\u001b[49m\n\u001b[1;32m    965\u001b[0m \u001b[43m    \u001b[49m\u001b[43mX\u001b[49m\u001b[43m,\u001b[49m\n\u001b[1;32m    966\u001b[0m \u001b[43m    \u001b[49m\u001b[43maccept_sparse\u001b[49m\u001b[38;5;241;43m=\u001b[39;49m\u001b[43maccept_sparse\u001b[49m\u001b[43m,\u001b[49m\n\u001b[1;32m    967\u001b[0m \u001b[43m    \u001b[49m\u001b[43maccept_large_sparse\u001b[49m\u001b[38;5;241;43m=\u001b[39;49m\u001b[43maccept_large_sparse\u001b[49m\u001b[43m,\u001b[49m\n\u001b[1;32m    968\u001b[0m \u001b[43m    \u001b[49m\u001b[43mdtype\u001b[49m\u001b[38;5;241;43m=\u001b[39;49m\u001b[43mdtype\u001b[49m\u001b[43m,\u001b[49m\n\u001b[1;32m    969\u001b[0m \u001b[43m    \u001b[49m\u001b[43morder\u001b[49m\u001b[38;5;241;43m=\u001b[39;49m\u001b[43morder\u001b[49m\u001b[43m,\u001b[49m\n\u001b[1;32m    970\u001b[0m \u001b[43m    \u001b[49m\u001b[43mcopy\u001b[49m\u001b[38;5;241;43m=\u001b[39;49m\u001b[43mcopy\u001b[49m\u001b[43m,\u001b[49m\n\u001b[1;32m    971\u001b[0m \u001b[43m    \u001b[49m\u001b[43mforce_all_finite\u001b[49m\u001b[38;5;241;43m=\u001b[39;49m\u001b[43mforce_all_finite\u001b[49m\u001b[43m,\u001b[49m\n\u001b[1;32m    972\u001b[0m \u001b[43m    \u001b[49m\u001b[43mensure_2d\u001b[49m\u001b[38;5;241;43m=\u001b[39;49m\u001b[43mensure_2d\u001b[49m\u001b[43m,\u001b[49m\n\u001b[1;32m    973\u001b[0m \u001b[43m    \u001b[49m\u001b[43mallow_nd\u001b[49m\u001b[38;5;241;43m=\u001b[39;49m\u001b[43mallow_nd\u001b[49m\u001b[43m,\u001b[49m\n\u001b[1;32m    974\u001b[0m \u001b[43m    \u001b[49m\u001b[43mensure_min_samples\u001b[49m\u001b[38;5;241;43m=\u001b[39;49m\u001b[43mensure_min_samples\u001b[49m\u001b[43m,\u001b[49m\n\u001b[1;32m    975\u001b[0m \u001b[43m    \u001b[49m\u001b[43mensure_min_features\u001b[49m\u001b[38;5;241;43m=\u001b[39;49m\u001b[43mensure_min_features\u001b[49m\u001b[43m,\u001b[49m\n\u001b[1;32m    976\u001b[0m \u001b[43m    \u001b[49m\u001b[43mestimator\u001b[49m\u001b[38;5;241;43m=\u001b[39;49m\u001b[43mestimator\u001b[49m\u001b[43m,\u001b[49m\n\u001b[1;32m    977\u001b[0m \u001b[43m\u001b[49m\u001b[43m)\u001b[49m\n\u001b[1;32m    979\u001b[0m y \u001b[38;5;241m=\u001b[39m _check_y(y, multi_output\u001b[38;5;241m=\u001b[39mmulti_output, y_numeric\u001b[38;5;241m=\u001b[39my_numeric)\n\u001b[1;32m    981\u001b[0m check_consistent_length(X, y)\n",
      "File \u001b[0;32m~/anaconda3/lib/python3.8/site-packages/sklearn/utils/validation.py:746\u001b[0m, in \u001b[0;36mcheck_array\u001b[0;34m(array, accept_sparse, accept_large_sparse, dtype, order, copy, force_all_finite, ensure_2d, allow_nd, ensure_min_samples, ensure_min_features, estimator)\u001b[0m\n\u001b[1;32m    744\u001b[0m         array \u001b[38;5;241m=\u001b[39m array\u001b[38;5;241m.\u001b[39mastype(dtype, casting\u001b[38;5;241m=\u001b[39m\u001b[38;5;124m\"\u001b[39m\u001b[38;5;124munsafe\u001b[39m\u001b[38;5;124m\"\u001b[39m, copy\u001b[38;5;241m=\u001b[39m\u001b[38;5;28;01mFalse\u001b[39;00m)\n\u001b[1;32m    745\u001b[0m     \u001b[38;5;28;01melse\u001b[39;00m:\n\u001b[0;32m--> 746\u001b[0m         array \u001b[38;5;241m=\u001b[39m \u001b[43mnp\u001b[49m\u001b[38;5;241;43m.\u001b[39;49m\u001b[43masarray\u001b[49m\u001b[43m(\u001b[49m\u001b[43marray\u001b[49m\u001b[43m,\u001b[49m\u001b[43m \u001b[49m\u001b[43morder\u001b[49m\u001b[38;5;241;43m=\u001b[39;49m\u001b[43morder\u001b[49m\u001b[43m,\u001b[49m\u001b[43m \u001b[49m\u001b[43mdtype\u001b[49m\u001b[38;5;241;43m=\u001b[39;49m\u001b[43mdtype\u001b[49m\u001b[43m)\u001b[49m\n\u001b[1;32m    747\u001b[0m \u001b[38;5;28;01mexcept\u001b[39;00m ComplexWarning \u001b[38;5;28;01mas\u001b[39;00m complex_warning:\n\u001b[1;32m    748\u001b[0m     \u001b[38;5;28;01mraise\u001b[39;00m \u001b[38;5;167;01mValueError\u001b[39;00m(\n\u001b[1;32m    749\u001b[0m         \u001b[38;5;124m\"\u001b[39m\u001b[38;5;124mComplex data not supported\u001b[39m\u001b[38;5;130;01m\\n\u001b[39;00m\u001b[38;5;132;01m{}\u001b[39;00m\u001b[38;5;130;01m\\n\u001b[39;00m\u001b[38;5;124m\"\u001b[39m\u001b[38;5;241m.\u001b[39mformat(array)\n\u001b[1;32m    750\u001b[0m     ) \u001b[38;5;28;01mfrom\u001b[39;00m \u001b[38;5;21;01mcomplex_warning\u001b[39;00m\n",
      "File \u001b[0;32m~/anaconda3/lib/python3.8/site-packages/numpy/core/_asarray.py:83\u001b[0m, in \u001b[0;36masarray\u001b[0;34m(a, dtype, order)\u001b[0m\n\u001b[1;32m     14\u001b[0m \u001b[38;5;129m@set_module\u001b[39m(\u001b[38;5;124m'\u001b[39m\u001b[38;5;124mnumpy\u001b[39m\u001b[38;5;124m'\u001b[39m)\n\u001b[1;32m     15\u001b[0m \u001b[38;5;28;01mdef\u001b[39;00m \u001b[38;5;21masarray\u001b[39m(a, dtype\u001b[38;5;241m=\u001b[39m\u001b[38;5;28;01mNone\u001b[39;00m, order\u001b[38;5;241m=\u001b[39m\u001b[38;5;28;01mNone\u001b[39;00m):\n\u001b[1;32m     16\u001b[0m     \u001b[38;5;124;03m\"\"\"Convert the input to an array.\u001b[39;00m\n\u001b[1;32m     17\u001b[0m \n\u001b[1;32m     18\u001b[0m \u001b[38;5;124;03m    Parameters\u001b[39;00m\n\u001b[0;32m   (...)\u001b[0m\n\u001b[1;32m     81\u001b[0m \n\u001b[1;32m     82\u001b[0m \u001b[38;5;124;03m    \"\"\"\u001b[39;00m\n\u001b[0;32m---> 83\u001b[0m     \u001b[38;5;28;01mreturn\u001b[39;00m \u001b[43marray\u001b[49m\u001b[43m(\u001b[49m\u001b[43ma\u001b[49m\u001b[43m,\u001b[49m\u001b[43m \u001b[49m\u001b[43mdtype\u001b[49m\u001b[43m,\u001b[49m\u001b[43m \u001b[49m\u001b[43mcopy\u001b[49m\u001b[38;5;241;43m=\u001b[39;49m\u001b[38;5;28;43;01mFalse\u001b[39;49;00m\u001b[43m,\u001b[49m\u001b[43m \u001b[49m\u001b[43morder\u001b[49m\u001b[38;5;241;43m=\u001b[39;49m\u001b[43morder\u001b[49m\u001b[43m)\u001b[49m\n",
      "\u001b[0;31mValueError\u001b[0m: could not convert string to float: 'multiclass-multioutput'"
     ]
    }
   ],
   "source": [
    "model4 = RandomForestClassifier()\n",
    "model4.fit(a_train, b_train)                         #fit for train\n",
    "y_pred = model4.predict(a_test)                      #Generate predictions with the model using our X values\n",
    "print(\"Confusion Matrix: \", confusion_matrix(b_test, y_pred))  #confusion matrix\n",
    "print (\"Accuracy : \", accuracy_score(b_test,y_pred)*100)       #accuracy\n",
    "print(\"Report : \", classification_report(b_test, y_pred))"
   ]
  },
  {
   "cell_type": "markdown",
   "id": "6566cb07",
   "metadata": {},
   "source": [
    "model4 = RandomForestClassifier()\n",
    "model4.fit(x_train_sampled, y_train_sampled)                         #fit for train\n",
    "y_pred = model4.predict(a_test)                      #Generate predictions with the model using our X values\n",
    "print(\"Confusion Matrix: \", confusion_matrix(y_test_sampled, y_pred))  #confusion matrix\n",
    "print (\"Accuracy : \", accuracy_score(y_test_sampled,y_pred)*100)       #accuracy\n",
    "print(\"Report : \", classification_report(y_test_sampled, y_pred))"
   ]
  },
  {
   "cell_type": "code",
   "execution_count": null,
   "id": "1a36db83",
   "metadata": {},
   "outputs": [],
   "source": []
  }
 ],
 "metadata": {
  "kernelspec": {
   "display_name": "Python 3 (ipykernel)",
   "language": "python",
   "name": "python3"
  },
  "language_info": {
   "codemirror_mode": {
    "name": "ipython",
    "version": 3
   },
   "file_extension": ".py",
   "mimetype": "text/x-python",
   "name": "python",
   "nbconvert_exporter": "python",
   "pygments_lexer": "ipython3",
   "version": "3.8.12"
  }
 },
 "nbformat": 4,
 "nbformat_minor": 5
}
